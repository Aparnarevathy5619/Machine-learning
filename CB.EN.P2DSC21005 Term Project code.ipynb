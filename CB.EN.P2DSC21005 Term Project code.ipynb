{
 
  {
   "cell_type": "markdown",
   "id": "8e5c3555",
   "metadata": {},
   "source": [
    "# EPILEPSY SEIZURE DETECTION USING  ML ALGORITHMS"
   ]
  },
  {
   "cell_type": "markdown",
   "id": "31f7f1c9",
   "metadata": {},
   "source": [
    "## Epileptic Seizure - Kaggle"
   ]
  },
  {
   "cell_type": "markdown",
   "id": "1324735e",
   "metadata": {},
   "source": [
    "The eeg dataset consists of 5 different folders, each with 100 files, with each file representing a single subject/person. Each file is a recording of brain activity for 23.6 seconds.\n",
    "The corresponding time-series is sampled into 4097 data points. Each data point is the value of the EEG recording at a different point in time. So we have total 500 individuals with each has 4097 data points for 23.5 seconds.We divided and shuffled every 4097 data points into 23 chunks, each chunk contains 178 data points for 1 second, and each data point is the value of the EEG recording at a different point in time.\n",
    "So now we have 23 x 500 = 11500 pieces of information(row), each information contains 178 data points for 1 second(column), the last column represents the label y {1,2,3,4,5}.The response variable is y in column 179, the Explanatory variables X1, X2, ..., X178\n",
    "\n"
   ]
  },
  {
   "cell_type": "markdown",
   "id": "55d31892",
   "metadata": {},
   "source": [
    "---\n",
    "#   Data Collection <a id=\"coll\"></a>\n",
    "Import Python libraries and load the dataset."
   ]
  },
  {
   "cell_type": "code",
   "execution_count": 29,
   "id": "9e26b8dd",
   "metadata": {},
   "outputs": [],
   "source": [
    "import numpy as np\n",
    "import matplotlib\n",
    "import matplotlib.pyplot as plt\n",
    "import pandas as pd\n",
    "import seaborn as sns\n",
    "import warnings\n",
    "warnings.filterwarnings('ignore')"
   ]
  },
  {
   "cell_type": "code",
   "execution_count": 30,
   "id": "a75c2e2b",
   "metadata": {},
   "outputs": [
    {
     "data": {
      "text/html": [
       "<div>\n",
       "<style scoped>\n",
       "    .dataframe tbody tr th:only-of-type {\n",
       "        vertical-align: middle;\n",
       "    }\n",
       "\n",
       "    .dataframe tbody tr th {\n",
       "        vertical-align: top;\n",
       "    }\n",
       "\n",
       "    .dataframe thead th {\n",
       "        text-align: right;\n",
       "    }\n",
       "</style>\n",
       "<table border=\"1\" class=\"dataframe\">\n",
       "  <thead>\n",
       "    <tr style=\"text-align: right;\">\n",
       "      <th></th>\n",
       "      <th>Unnamed</th>\n",
       "      <th>X1</th>\n",
       "      <th>X2</th>\n",
       "      <th>X3</th>\n",
       "      <th>X4</th>\n",
       "      <th>X5</th>\n",
       "      <th>X6</th>\n",
       "      <th>X7</th>\n",
       "      <th>X8</th>\n",
       "      <th>X9</th>\n",
       "      <th>...</th>\n",
       "      <th>X170</th>\n",
       "      <th>X171</th>\n",
       "      <th>X172</th>\n",
       "      <th>X173</th>\n",
       "      <th>X174</th>\n",
       "      <th>X175</th>\n",
       "      <th>X176</th>\n",
       "      <th>X177</th>\n",
       "      <th>X178</th>\n",
       "      <th>y</th>\n",
       "    </tr>\n",
       "  </thead>\n",
       "  <tbody>\n",
       "    <tr>\n",
       "      <th>0</th>\n",
       "      <td>X21.V1.791</td>\n",
       "      <td>135</td>\n",
       "      <td>190</td>\n",
       "      <td>229</td>\n",
       "      <td>223</td>\n",
       "      <td>192</td>\n",
       "      <td>125</td>\n",
       "      <td>55</td>\n",
       "      <td>-9</td>\n",
       "      <td>-33</td>\n",
       "      <td>...</td>\n",
       "      <td>-17</td>\n",
       "      <td>-15</td>\n",
       "      <td>-31</td>\n",
       "      <td>-77</td>\n",
       "      <td>-103</td>\n",
       "      <td>-127</td>\n",
       "      <td>-116</td>\n",
       "      <td>-83</td>\n",
       "      <td>-51</td>\n",
       "      <td>4</td>\n",
       "    </tr>\n",
       "    <tr>\n",
       "      <th>1</th>\n",
       "      <td>X15.V1.924</td>\n",
       "      <td>386</td>\n",
       "      <td>382</td>\n",
       "      <td>356</td>\n",
       "      <td>331</td>\n",
       "      <td>320</td>\n",
       "      <td>315</td>\n",
       "      <td>307</td>\n",
       "      <td>272</td>\n",
       "      <td>244</td>\n",
       "      <td>...</td>\n",
       "      <td>164</td>\n",
       "      <td>150</td>\n",
       "      <td>146</td>\n",
       "      <td>152</td>\n",
       "      <td>157</td>\n",
       "      <td>156</td>\n",
       "      <td>154</td>\n",
       "      <td>143</td>\n",
       "      <td>129</td>\n",
       "      <td>1</td>\n",
       "    </tr>\n",
       "    <tr>\n",
       "      <th>2</th>\n",
       "      <td>X8.V1.1</td>\n",
       "      <td>-32</td>\n",
       "      <td>-39</td>\n",
       "      <td>-47</td>\n",
       "      <td>-37</td>\n",
       "      <td>-32</td>\n",
       "      <td>-36</td>\n",
       "      <td>-57</td>\n",
       "      <td>-73</td>\n",
       "      <td>-85</td>\n",
       "      <td>...</td>\n",
       "      <td>57</td>\n",
       "      <td>64</td>\n",
       "      <td>48</td>\n",
       "      <td>19</td>\n",
       "      <td>-12</td>\n",
       "      <td>-30</td>\n",
       "      <td>-35</td>\n",
       "      <td>-35</td>\n",
       "      <td>-36</td>\n",
       "      <td>5</td>\n",
       "    </tr>\n",
       "    <tr>\n",
       "      <th>3</th>\n",
       "      <td>X16.V1.60</td>\n",
       "      <td>-105</td>\n",
       "      <td>-101</td>\n",
       "      <td>-96</td>\n",
       "      <td>-92</td>\n",
       "      <td>-89</td>\n",
       "      <td>-95</td>\n",
       "      <td>-102</td>\n",
       "      <td>-100</td>\n",
       "      <td>-87</td>\n",
       "      <td>...</td>\n",
       "      <td>-82</td>\n",
       "      <td>-81</td>\n",
       "      <td>-80</td>\n",
       "      <td>-77</td>\n",
       "      <td>-85</td>\n",
       "      <td>-77</td>\n",
       "      <td>-72</td>\n",
       "      <td>-69</td>\n",
       "      <td>-65</td>\n",
       "      <td>5</td>\n",
       "    </tr>\n",
       "    <tr>\n",
       "      <th>4</th>\n",
       "      <td>X20.V1.54</td>\n",
       "      <td>-9</td>\n",
       "      <td>-65</td>\n",
       "      <td>-98</td>\n",
       "      <td>-102</td>\n",
       "      <td>-78</td>\n",
       "      <td>-48</td>\n",
       "      <td>-16</td>\n",
       "      <td>0</td>\n",
       "      <td>-21</td>\n",
       "      <td>...</td>\n",
       "      <td>4</td>\n",
       "      <td>2</td>\n",
       "      <td>-12</td>\n",
       "      <td>-32</td>\n",
       "      <td>-41</td>\n",
       "      <td>-65</td>\n",
       "      <td>-83</td>\n",
       "      <td>-89</td>\n",
       "      <td>-73</td>\n",
       "      <td>5</td>\n",
       "    </tr>\n",
       "  </tbody>\n",
       "</table>\n",
       "<p>5 rows × 180 columns</p>\n",
       "</div>"
      ],
      "text/plain": [
       "      Unnamed   X1   X2   X3   X4   X5   X6   X7   X8   X9  ...  X170  X171  \\\n",
       "0  X21.V1.791  135  190  229  223  192  125   55   -9  -33  ...   -17   -15   \n",
       "1  X15.V1.924  386  382  356  331  320  315  307  272  244  ...   164   150   \n",
       "2     X8.V1.1  -32  -39  -47  -37  -32  -36  -57  -73  -85  ...    57    64   \n",
       "3   X16.V1.60 -105 -101  -96  -92  -89  -95 -102 -100  -87  ...   -82   -81   \n",
       "4   X20.V1.54   -9  -65  -98 -102  -78  -48  -16    0  -21  ...     4     2   \n",
       "\n",
       "   X172  X173  X174  X175  X176  X177  X178  y  \n",
       "0   -31   -77  -103  -127  -116   -83   -51  4  \n",
       "1   146   152   157   156   154   143   129  1  \n",
       "2    48    19   -12   -30   -35   -35   -36  5  \n",
       "3   -80   -77   -85   -77   -72   -69   -65  5  \n",
       "4   -12   -32   -41   -65   -83   -89   -73  5  \n",
       "\n",
       "[5 rows x 180 columns]"
      ]
     },
     "execution_count": 30,
     "metadata": {},
     "output_type": "execute_result"
    }
   ],
   "source": [
    "#LOAD DATASET\n",
    "ESR=pd.read_csv('Epileptic Seizure Recognition.csv')\n",
    "ESR.head()"
   ]
  },
  {
   "cell_type": "code",
   "execution_count": 31,
   "id": "a25e3981",
   "metadata": {},
   "outputs": [
    {
     "data": {
      "text/plain": [
       "(11500, 180)"
      ]
     },
     "execution_count": 31,
     "metadata": {},
     "output_type": "execute_result"
    }
   ],
   "source": [
    "#Checking the shape of the data\n",
    "ESR.shape"
   ]
  },
  {
   "cell_type": "markdown",
   "id": "6cba28ee",
   "metadata": {},
   "source": [
    "    \n",
    "---\n",
    "#   Data Preparation <a id=\"prep\"></a>"
   ]
  },
  {
   "cell_type": "markdown",
   "id": "61b3bd6a",
   "metadata": {},
   "source": [
    "### Check for Nulls/Duplicates <a id=\"prep_null\"></a>\n",
    "Cleaning up the NULL and duplicate values in the dataset."
   ]
  },
  {
   "cell_type": "code",
   "execution_count": 4,
   "id": "d8aff33a",
   "metadata": {},
   "outputs": [
    {
     "data": {
      "text/plain": [
       "Unnamed    0\n",
       "X1         0\n",
       "X2         0\n",
       "X3         0\n",
       "X4         0\n",
       "          ..\n",
       "X175       0\n",
       "X176       0\n",
       "X177       0\n",
       "X178       0\n",
       "y          0\n",
       "Length: 180, dtype: int64"
      ]
     },
     "execution_count": 4,
     "metadata": {},
     "output_type": "execute_result"
    }
   ],
   "source": [
    "ESR.isnull().sum()"
   ]
  },
  {
   "cell_type": "markdown",
   "id": "46dda9fc",
   "metadata": {},
   "source": [
    "### Updating the class information "
   ]
  },
  {
   "cell_type": "code",
   "execution_count": 32,
   "id": "9729c5da",
   "metadata": {},
   "outputs": [],
   "source": [
    "# Binary class formation\n",
    "cols = ESR.columns\n",
    "tgt = ESR.y\n",
    "tgt[tgt>1]=0"
   ]
  },
  {
   "cell_type": "code",
   "execution_count": 6,
   "id": "1b1100cf",
   "metadata": {},
   "outputs": [
    {
     "data": {
      "text/html": [
       "<div>\n",
       "<style scoped>\n",
       "    .dataframe tbody tr th:only-of-type {\n",
       "        vertical-align: middle;\n",
       "    }\n",
       "\n",
       "    .dataframe tbody tr th {\n",
       "        vertical-align: top;\n",
       "    }\n",
       "\n",
       "    .dataframe thead th {\n",
       "        text-align: right;\n",
       "    }\n",
       "</style>\n",
       "<table border=\"1\" class=\"dataframe\">\n",
       "  <thead>\n",
       "    <tr style=\"text-align: right;\">\n",
       "      <th></th>\n",
       "      <th>Unnamed</th>\n",
       "      <th>X1</th>\n",
       "      <th>X2</th>\n",
       "      <th>X3</th>\n",
       "      <th>X4</th>\n",
       "      <th>X5</th>\n",
       "      <th>X6</th>\n",
       "      <th>X7</th>\n",
       "      <th>X8</th>\n",
       "      <th>X9</th>\n",
       "      <th>...</th>\n",
       "      <th>X170</th>\n",
       "      <th>X171</th>\n",
       "      <th>X172</th>\n",
       "      <th>X173</th>\n",
       "      <th>X174</th>\n",
       "      <th>X175</th>\n",
       "      <th>X176</th>\n",
       "      <th>X177</th>\n",
       "      <th>X178</th>\n",
       "      <th>y</th>\n",
       "    </tr>\n",
       "  </thead>\n",
       "  <tbody>\n",
       "    <tr>\n",
       "      <th>0</th>\n",
       "      <td>X21.V1.791</td>\n",
       "      <td>135</td>\n",
       "      <td>190</td>\n",
       "      <td>229</td>\n",
       "      <td>223</td>\n",
       "      <td>192</td>\n",
       "      <td>125</td>\n",
       "      <td>55</td>\n",
       "      <td>-9</td>\n",
       "      <td>-33</td>\n",
       "      <td>...</td>\n",
       "      <td>-17</td>\n",
       "      <td>-15</td>\n",
       "      <td>-31</td>\n",
       "      <td>-77</td>\n",
       "      <td>-103</td>\n",
       "      <td>-127</td>\n",
       "      <td>-116</td>\n",
       "      <td>-83</td>\n",
       "      <td>-51</td>\n",
       "      <td>0</td>\n",
       "    </tr>\n",
       "    <tr>\n",
       "      <th>1</th>\n",
       "      <td>X15.V1.924</td>\n",
       "      <td>386</td>\n",
       "      <td>382</td>\n",
       "      <td>356</td>\n",
       "      <td>331</td>\n",
       "      <td>320</td>\n",
       "      <td>315</td>\n",
       "      <td>307</td>\n",
       "      <td>272</td>\n",
       "      <td>244</td>\n",
       "      <td>...</td>\n",
       "      <td>164</td>\n",
       "      <td>150</td>\n",
       "      <td>146</td>\n",
       "      <td>152</td>\n",
       "      <td>157</td>\n",
       "      <td>156</td>\n",
       "      <td>154</td>\n",
       "      <td>143</td>\n",
       "      <td>129</td>\n",
       "      <td>1</td>\n",
       "    </tr>\n",
       "    <tr>\n",
       "      <th>2</th>\n",
       "      <td>X8.V1.1</td>\n",
       "      <td>-32</td>\n",
       "      <td>-39</td>\n",
       "      <td>-47</td>\n",
       "      <td>-37</td>\n",
       "      <td>-32</td>\n",
       "      <td>-36</td>\n",
       "      <td>-57</td>\n",
       "      <td>-73</td>\n",
       "      <td>-85</td>\n",
       "      <td>...</td>\n",
       "      <td>57</td>\n",
       "      <td>64</td>\n",
       "      <td>48</td>\n",
       "      <td>19</td>\n",
       "      <td>-12</td>\n",
       "      <td>-30</td>\n",
       "      <td>-35</td>\n",
       "      <td>-35</td>\n",
       "      <td>-36</td>\n",
       "      <td>0</td>\n",
       "    </tr>\n",
       "    <tr>\n",
       "      <th>3</th>\n",
       "      <td>X16.V1.60</td>\n",
       "      <td>-105</td>\n",
       "      <td>-101</td>\n",
       "      <td>-96</td>\n",
       "      <td>-92</td>\n",
       "      <td>-89</td>\n",
       "      <td>-95</td>\n",
       "      <td>-102</td>\n",
       "      <td>-100</td>\n",
       "      <td>-87</td>\n",
       "      <td>...</td>\n",
       "      <td>-82</td>\n",
       "      <td>-81</td>\n",
       "      <td>-80</td>\n",
       "      <td>-77</td>\n",
       "      <td>-85</td>\n",
       "      <td>-77</td>\n",
       "      <td>-72</td>\n",
       "      <td>-69</td>\n",
       "      <td>-65</td>\n",
       "      <td>0</td>\n",
       "    </tr>\n",
       "    <tr>\n",
       "      <th>4</th>\n",
       "      <td>X20.V1.54</td>\n",
       "      <td>-9</td>\n",
       "      <td>-65</td>\n",
       "      <td>-98</td>\n",
       "      <td>-102</td>\n",
       "      <td>-78</td>\n",
       "      <td>-48</td>\n",
       "      <td>-16</td>\n",
       "      <td>0</td>\n",
       "      <td>-21</td>\n",
       "      <td>...</td>\n",
       "      <td>4</td>\n",
       "      <td>2</td>\n",
       "      <td>-12</td>\n",
       "      <td>-32</td>\n",
       "      <td>-41</td>\n",
       "      <td>-65</td>\n",
       "      <td>-83</td>\n",
       "      <td>-89</td>\n",
       "      <td>-73</td>\n",
       "      <td>0</td>\n",
       "    </tr>\n",
       "  </tbody>\n",
       "</table>\n",
       "<p>5 rows × 180 columns</p>\n",
       "</div>"
      ],
      "text/plain": [
       "      Unnamed   X1   X2   X3   X4   X5   X6   X7   X8   X9  ...  X170  X171  \\\n",
       "0  X21.V1.791  135  190  229  223  192  125   55   -9  -33  ...   -17   -15   \n",
       "1  X15.V1.924  386  382  356  331  320  315  307  272  244  ...   164   150   \n",
       "2     X8.V1.1  -32  -39  -47  -37  -32  -36  -57  -73  -85  ...    57    64   \n",
       "3   X16.V1.60 -105 -101  -96  -92  -89  -95 -102 -100  -87  ...   -82   -81   \n",
       "4   X20.V1.54   -9  -65  -98 -102  -78  -48  -16    0  -21  ...     4     2   \n",
       "\n",
       "   X172  X173  X174  X175  X176  X177  X178  y  \n",
       "0   -31   -77  -103  -127  -116   -83   -51  0  \n",
       "1   146   152   157   156   154   143   129  1  \n",
       "2    48    19   -12   -30   -35   -35   -36  0  \n",
       "3   -80   -77   -85   -77   -72   -69   -65  0  \n",
       "4   -12   -32   -41   -65   -83   -89   -73  0  \n",
       "\n",
       "[5 rows x 180 columns]"
      ]
     },
     "execution_count": 6,
     "metadata": {},
     "output_type": "execute_result"
    }
   ],
   "source": [
    "ESR.head()"
   ]
  },
  {
   "cell_type": "markdown",
   "id": "15698e6c",
   "metadata": {},
   "source": [
    "### Brain waveform for seizure - non-seizure"
   ]
  },
  {
   "cell_type": "code",
   "execution_count": 7,
   "id": "dec44edb",
   "metadata": {},
   "outputs": [
    {
     "data": {
      "text/plain": [
       "array([<AxesSubplot:>, <AxesSubplot:>], dtype=object)"
      ]
     },
     "execution_count": 7,
     "metadata": {},
     "output_type": "execute_result"
    },
    {
     "data": {
      "image/png": "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\n",
      "text/plain": [
       "<Figure size 720x360 with 2 Axes>"
      ]
     },
     "metadata": {},
     "output_type": "display_data"
    }
   ],
   "source": [
    "plt.style.use(\"fivethirtyeight\")\n",
    "dt = ESR.iloc[0:2,1:150]\n",
    "dataframe = dt.T\n",
    "dataframe.plot(subplots=True, figsize=(10, 5))"
   ]
  },
  {
   "cell_type": "markdown",
   "id": "0ea9d159",
   "metadata": {},
   "source": [
    "### Data Type - Overview  <a id=\"data_type\"></a>\n",
    "Some of the data types of the features will be changed to 'object' after rename/updates."
   ]
  },
  {
   "cell_type": "code",
   "execution_count": 8,
   "id": "0eaa9f3c",
   "metadata": {},
   "outputs": [
    {
     "name": "stdout",
     "output_type": "stream",
     "text": [
      "<class 'pandas.core.frame.DataFrame'>\n",
      "RangeIndex: 11500 entries, 0 to 11499\n",
      "Columns: 180 entries, Unnamed to y\n",
      "dtypes: int64(179), object(1)\n",
      "memory usage: 15.8+ MB\n"
     ]
    }
   ],
   "source": [
    "# Overview of the dataset: dataset size and types\n",
    "ESR.info()"
   ]
  },
  {
   "cell_type": "markdown",
   "id": "dc56d304",
   "metadata": {},
   "source": [
    "### Statistical Summary <a id=\"data_summ\"></a>\n",
    "Summarize descriptive statistics of the dataset for *numerical*features. "
   ]
  },
  {
   "cell_type": "code",
   "execution_count": 9,
   "id": "0a230556",
   "metadata": {},
   "outputs": [
    {
     "data": {
      "text/html": [
       "<div>\n",
       "<style scoped>\n",
       "    .dataframe tbody tr th:only-of-type {\n",
       "        vertical-align: middle;\n",
       "    }\n",
       "\n",
       "    .dataframe tbody tr th {\n",
       "        vertical-align: top;\n",
       "    }\n",
       "\n",
       "    .dataframe thead th {\n",
       "        text-align: right;\n",
       "    }\n",
       "</style>\n",
       "<table border=\"1\" class=\"dataframe\">\n",
       "  <thead>\n",
       "    <tr style=\"text-align: right;\">\n",
       "      <th></th>\n",
       "      <th>X1</th>\n",
       "      <th>X2</th>\n",
       "      <th>X3</th>\n",
       "      <th>X4</th>\n",
       "      <th>X5</th>\n",
       "      <th>X6</th>\n",
       "      <th>X7</th>\n",
       "      <th>X8</th>\n",
       "      <th>X9</th>\n",
       "      <th>X10</th>\n",
       "      <th>...</th>\n",
       "      <th>X170</th>\n",
       "      <th>X171</th>\n",
       "      <th>X172</th>\n",
       "      <th>X173</th>\n",
       "      <th>X174</th>\n",
       "      <th>X175</th>\n",
       "      <th>X176</th>\n",
       "      <th>X177</th>\n",
       "      <th>X178</th>\n",
       "      <th>y</th>\n",
       "    </tr>\n",
       "  </thead>\n",
       "  <tbody>\n",
       "    <tr>\n",
       "      <th>count</th>\n",
       "      <td>11500.000000</td>\n",
       "      <td>11500.000000</td>\n",
       "      <td>11500.000000</td>\n",
       "      <td>11500.000000</td>\n",
       "      <td>11500.000000</td>\n",
       "      <td>11500.000000</td>\n",
       "      <td>11500.000000</td>\n",
       "      <td>11500.00000</td>\n",
       "      <td>11500.00000</td>\n",
       "      <td>11500.000000</td>\n",
       "      <td>...</td>\n",
       "      <td>11500.000000</td>\n",
       "      <td>11500.000000</td>\n",
       "      <td>11500.000000</td>\n",
       "      <td>11500.000000</td>\n",
       "      <td>11500.000000</td>\n",
       "      <td>11500.000000</td>\n",
       "      <td>11500.000000</td>\n",
       "      <td>11500.000000</td>\n",
       "      <td>11500.000000</td>\n",
       "      <td>11500.000000</td>\n",
       "    </tr>\n",
       "    <tr>\n",
       "      <th>mean</th>\n",
       "      <td>-11.581391</td>\n",
       "      <td>-10.911565</td>\n",
       "      <td>-10.187130</td>\n",
       "      <td>-9.143043</td>\n",
       "      <td>-8.009739</td>\n",
       "      <td>-7.003478</td>\n",
       "      <td>-6.502087</td>\n",
       "      <td>-6.68713</td>\n",
       "      <td>-6.55800</td>\n",
       "      <td>-6.168435</td>\n",
       "      <td>...</td>\n",
       "      <td>-10.145739</td>\n",
       "      <td>-11.630348</td>\n",
       "      <td>-12.943478</td>\n",
       "      <td>-13.668870</td>\n",
       "      <td>-13.363304</td>\n",
       "      <td>-13.045043</td>\n",
       "      <td>-12.705130</td>\n",
       "      <td>-12.426000</td>\n",
       "      <td>-12.195652</td>\n",
       "      <td>0.200000</td>\n",
       "    </tr>\n",
       "    <tr>\n",
       "      <th>std</th>\n",
       "      <td>165.626284</td>\n",
       "      <td>166.059609</td>\n",
       "      <td>163.524317</td>\n",
       "      <td>161.269041</td>\n",
       "      <td>160.998007</td>\n",
       "      <td>161.328725</td>\n",
       "      <td>161.467837</td>\n",
       "      <td>162.11912</td>\n",
       "      <td>162.03336</td>\n",
       "      <td>160.436352</td>\n",
       "      <td>...</td>\n",
       "      <td>164.652883</td>\n",
       "      <td>166.149790</td>\n",
       "      <td>168.554058</td>\n",
       "      <td>168.556486</td>\n",
       "      <td>167.257290</td>\n",
       "      <td>164.241019</td>\n",
       "      <td>162.895832</td>\n",
       "      <td>162.886311</td>\n",
       "      <td>164.852015</td>\n",
       "      <td>0.400017</td>\n",
       "    </tr>\n",
       "    <tr>\n",
       "      <th>min</th>\n",
       "      <td>-1839.000000</td>\n",
       "      <td>-1838.000000</td>\n",
       "      <td>-1835.000000</td>\n",
       "      <td>-1845.000000</td>\n",
       "      <td>-1791.000000</td>\n",
       "      <td>-1757.000000</td>\n",
       "      <td>-1832.000000</td>\n",
       "      <td>-1778.00000</td>\n",
       "      <td>-1840.00000</td>\n",
       "      <td>-1867.000000</td>\n",
       "      <td>...</td>\n",
       "      <td>-1867.000000</td>\n",
       "      <td>-1865.000000</td>\n",
       "      <td>-1642.000000</td>\n",
       "      <td>-1723.000000</td>\n",
       "      <td>-1866.000000</td>\n",
       "      <td>-1863.000000</td>\n",
       "      <td>-1781.000000</td>\n",
       "      <td>-1727.000000</td>\n",
       "      <td>-1829.000000</td>\n",
       "      <td>0.000000</td>\n",
       "    </tr>\n",
       "    <tr>\n",
       "      <th>25%</th>\n",
       "      <td>-54.000000</td>\n",
       "      <td>-55.000000</td>\n",
       "      <td>-54.000000</td>\n",
       "      <td>-54.000000</td>\n",
       "      <td>-54.000000</td>\n",
       "      <td>-54.000000</td>\n",
       "      <td>-54.000000</td>\n",
       "      <td>-55.00000</td>\n",
       "      <td>-55.00000</td>\n",
       "      <td>-54.000000</td>\n",
       "      <td>...</td>\n",
       "      <td>-55.000000</td>\n",
       "      <td>-56.000000</td>\n",
       "      <td>-56.000000</td>\n",
       "      <td>-56.000000</td>\n",
       "      <td>-55.000000</td>\n",
       "      <td>-56.000000</td>\n",
       "      <td>-55.000000</td>\n",
       "      <td>-55.000000</td>\n",
       "      <td>-55.000000</td>\n",
       "      <td>0.000000</td>\n",
       "    </tr>\n",
       "    <tr>\n",
       "      <th>50%</th>\n",
       "      <td>-8.000000</td>\n",
       "      <td>-8.000000</td>\n",
       "      <td>-7.000000</td>\n",
       "      <td>-8.000000</td>\n",
       "      <td>-8.000000</td>\n",
       "      <td>-8.000000</td>\n",
       "      <td>-8.000000</td>\n",
       "      <td>-8.00000</td>\n",
       "      <td>-7.00000</td>\n",
       "      <td>-7.000000</td>\n",
       "      <td>...</td>\n",
       "      <td>-9.000000</td>\n",
       "      <td>-10.000000</td>\n",
       "      <td>-10.000000</td>\n",
       "      <td>-10.000000</td>\n",
       "      <td>-10.000000</td>\n",
       "      <td>-9.000000</td>\n",
       "      <td>-9.000000</td>\n",
       "      <td>-9.000000</td>\n",
       "      <td>-9.000000</td>\n",
       "      <td>0.000000</td>\n",
       "    </tr>\n",
       "    <tr>\n",
       "      <th>75%</th>\n",
       "      <td>34.000000</td>\n",
       "      <td>35.000000</td>\n",
       "      <td>36.000000</td>\n",
       "      <td>36.000000</td>\n",
       "      <td>35.000000</td>\n",
       "      <td>36.000000</td>\n",
       "      <td>35.000000</td>\n",
       "      <td>36.00000</td>\n",
       "      <td>36.00000</td>\n",
       "      <td>35.250000</td>\n",
       "      <td>...</td>\n",
       "      <td>34.000000</td>\n",
       "      <td>34.000000</td>\n",
       "      <td>33.000000</td>\n",
       "      <td>33.000000</td>\n",
       "      <td>34.000000</td>\n",
       "      <td>34.000000</td>\n",
       "      <td>34.000000</td>\n",
       "      <td>34.000000</td>\n",
       "      <td>34.000000</td>\n",
       "      <td>0.000000</td>\n",
       "    </tr>\n",
       "    <tr>\n",
       "      <th>max</th>\n",
       "      <td>1726.000000</td>\n",
       "      <td>1713.000000</td>\n",
       "      <td>1697.000000</td>\n",
       "      <td>1612.000000</td>\n",
       "      <td>1518.000000</td>\n",
       "      <td>1816.000000</td>\n",
       "      <td>2047.000000</td>\n",
       "      <td>2047.00000</td>\n",
       "      <td>2047.00000</td>\n",
       "      <td>2047.000000</td>\n",
       "      <td>...</td>\n",
       "      <td>1777.000000</td>\n",
       "      <td>1472.000000</td>\n",
       "      <td>1319.000000</td>\n",
       "      <td>1436.000000</td>\n",
       "      <td>1733.000000</td>\n",
       "      <td>1958.000000</td>\n",
       "      <td>2047.000000</td>\n",
       "      <td>2047.000000</td>\n",
       "      <td>1915.000000</td>\n",
       "      <td>1.000000</td>\n",
       "    </tr>\n",
       "  </tbody>\n",
       "</table>\n",
       "<p>8 rows × 179 columns</p>\n",
       "</div>"
      ],
      "text/plain": [
       "                 X1            X2            X3            X4            X5  \\\n",
       "count  11500.000000  11500.000000  11500.000000  11500.000000  11500.000000   \n",
       "mean     -11.581391    -10.911565    -10.187130     -9.143043     -8.009739   \n",
       "std      165.626284    166.059609    163.524317    161.269041    160.998007   \n",
       "min    -1839.000000  -1838.000000  -1835.000000  -1845.000000  -1791.000000   \n",
       "25%      -54.000000    -55.000000    -54.000000    -54.000000    -54.000000   \n",
       "50%       -8.000000     -8.000000     -7.000000     -8.000000     -8.000000   \n",
       "75%       34.000000     35.000000     36.000000     36.000000     35.000000   \n",
       "max     1726.000000   1713.000000   1697.000000   1612.000000   1518.000000   \n",
       "\n",
       "                 X6            X7           X8           X9           X10  \\\n",
       "count  11500.000000  11500.000000  11500.00000  11500.00000  11500.000000   \n",
       "mean      -7.003478     -6.502087     -6.68713     -6.55800     -6.168435   \n",
       "std      161.328725    161.467837    162.11912    162.03336    160.436352   \n",
       "min    -1757.000000  -1832.000000  -1778.00000  -1840.00000  -1867.000000   \n",
       "25%      -54.000000    -54.000000    -55.00000    -55.00000    -54.000000   \n",
       "50%       -8.000000     -8.000000     -8.00000     -7.00000     -7.000000   \n",
       "75%       36.000000     35.000000     36.00000     36.00000     35.250000   \n",
       "max     1816.000000   2047.000000   2047.00000   2047.00000   2047.000000   \n",
       "\n",
       "       ...          X170          X171          X172          X173  \\\n",
       "count  ...  11500.000000  11500.000000  11500.000000  11500.000000   \n",
       "mean   ...    -10.145739    -11.630348    -12.943478    -13.668870   \n",
       "std    ...    164.652883    166.149790    168.554058    168.556486   \n",
       "min    ...  -1867.000000  -1865.000000  -1642.000000  -1723.000000   \n",
       "25%    ...    -55.000000    -56.000000    -56.000000    -56.000000   \n",
       "50%    ...     -9.000000    -10.000000    -10.000000    -10.000000   \n",
       "75%    ...     34.000000     34.000000     33.000000     33.000000   \n",
       "max    ...   1777.000000   1472.000000   1319.000000   1436.000000   \n",
       "\n",
       "               X174          X175          X176          X177          X178  \\\n",
       "count  11500.000000  11500.000000  11500.000000  11500.000000  11500.000000   \n",
       "mean     -13.363304    -13.045043    -12.705130    -12.426000    -12.195652   \n",
       "std      167.257290    164.241019    162.895832    162.886311    164.852015   \n",
       "min    -1866.000000  -1863.000000  -1781.000000  -1727.000000  -1829.000000   \n",
       "25%      -55.000000    -56.000000    -55.000000    -55.000000    -55.000000   \n",
       "50%      -10.000000     -9.000000     -9.000000     -9.000000     -9.000000   \n",
       "75%       34.000000     34.000000     34.000000     34.000000     34.000000   \n",
       "max     1733.000000   1958.000000   2047.000000   2047.000000   1915.000000   \n",
       "\n",
       "                  y  \n",
       "count  11500.000000  \n",
       "mean       0.200000  \n",
       "std        0.400017  \n",
       "min        0.000000  \n",
       "25%        0.000000  \n",
       "50%        0.000000  \n",
       "75%        0.000000  \n",
       "max        1.000000  \n",
       "\n",
       "[8 rows x 179 columns]"
      ]
     },
     "execution_count": 9,
     "metadata": {},
     "output_type": "execute_result"
    }
   ],
   "source": [
    "ESR.describe() #Numerical Data"
   ]
  },
  {
   "cell_type": "markdown",
   "id": "a2e39500",
   "metadata": {},
   "source": [
    "###  Data Visualization \n"
   ]
  },
  {
   "cell_type": "code",
   "execution_count": 10,
   "id": "6af53f0c",
   "metadata": {},
   "outputs": [
    {
     "name": "stdout",
     "output_type": "stream",
     "text": [
      "The number of trials for the non-seizure class is: 9200\n",
      "The number of trials for the seizure class is: 2300\n"
     ]
    },
    {
     "data": {
      "image/png": "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\n",
      "text/plain": [
       "<Figure size 432x288 with 1 Axes>"
      ]
     },
     "metadata": {},
     "output_type": "display_data"
    }
   ],
   "source": [
    "# Target class distribution can be plotted using Seaborn's count plot.\n",
    "ax = sns.countplot(tgt,label=\"Count\")\n",
    "non_seizure, seizure = tgt.value_counts()\n",
    "print('The number of trials for the non-seizure class is:', non_seizure)\n",
    "print('The number of trials for the seizure class is:', seizure)"
   ]
  },
  {
   "cell_type": "code",
   "execution_count": 11,
   "id": "c5164c63",
   "metadata": {},
   "outputs": [
    {
     "data": {
      "image/png": "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\n",
      "text/plain": [
       "<Figure size 432x288 with 1 Axes>"
      ]
     },
     "metadata": {},
     "output_type": "display_data"
    }
   ],
   "source": [
    "# DATA VISUALIZATION: Seizure - Non Seizure\n",
    "S=ESR[ESR.y == 1]\n",
    "N=ESR[ESR.y == 0]\n",
    "plt.title(\"Seizure vs non-seizure\")\n",
    "plt.xlabel(\"Eeg reading at X1 time\")\n",
    "plt.ylabel(\"Eeg reading at X2 time\")\n",
    "plt.scatter(S.X1, S.X2, color = \"red\", label = \"Seizure\",alpha = 0.4)\n",
    "plt.scatter(N.X1, N.X2, color = \"blue\", label = \"Non-Seizure\",alpha = 0.4)\n",
    "plt.legend()\n",
    "plt.show()"
   ]
  },
  {
   "cell_type": "markdown",
   "id": "c51dd7ac",
   "metadata": {},
   "source": [
    "#  MACHINE LEARNING MODELS"
   ]
  },
  {
   "cell_type": "markdown",
   "id": "3539ace4",
   "metadata": {},
   "source": [
    "###  Train/Test Split <a id=\"model_split\"></a>\n",
    "Train/Test Split randomly splits a dataset into training and testing subsets.  The model learns on the training set based on known output, and the test data is used to evaluate the accuracy of the model."
   ]
  },
  {
   "cell_type": "code",
   "execution_count": 33,
   "id": "4b2ba8c1",
   "metadata": {},
   "outputs": [],
   "source": [
    "#Import Libraries\n",
    "from sklearn.model_selection import train_test_split\n",
    "from sklearn.metrics import accuracy_score,f1_score\n",
    "from sklearn.metrics import confusion_matrix, classification_report \n",
    "\n",
    "x = ESR.iloc[:,1:178]\n",
    "y= ESR.y\n",
    "Xtrain, Xtest, Ytrain, Ytest = train_test_split(x,y, test_size = 0.25,random_state=42) # 75% for training and 25% for testing"
   ]
  },
  {
   "cell_type": "markdown",
   "id": "6e2a6cf4",
   "metadata": {},
   "source": [
    "## Classification Model<a id=\"model_lr\"></a>   \n",
    "In machine learning, **classification** is a *supervised* learning approach which attempts to learn the relationship between a set of feature variables and a target variable. The target attribute in classification is a categorical variable with discrete values.\n"
   ]
  },
  {
   "cell_type": "markdown",
   "id": "25d6f150",
   "metadata": {},
   "source": [
    "#### Support Vector Machine\n",
    "\n",
    "Support Vector Machines (SVM) is a widely used supervised learning method and it can be used for regression, classification, anomaly detection problems. The SVM based classier is called the SVC (Support Vector Classifier) and we can use it in classification problems. It uses the C regularization parameter to optimize the margin in hyperplane and it is also called C-SVC. "
   ]
  },
  {
   "cell_type": "code",
   "execution_count": 13,
   "id": "457582ce",
   "metadata": {},
   "outputs": [
    {
     "name": "stdout",
     "output_type": "stream",
     "text": [
      "accuracy_score: 0.9735652173913043\n",
      "F1_score: 0.9339130434782609\n"
     ]
    }
   ],
   "source": [
    "from sklearn.svm import SVC\n",
    "SVM_C =SVC(kernel = 'rbf')\n",
    "SVC_Pred = SVM_C.fit(Xtrain,Ytrain).predict(Xtest)\n",
    "print(f\"accuracy_score: {accuracy_score(Ytest, SVC_Pred)}\")\n",
    "print(f\"F1_score: {f1_score(Ytest,SVC_Pred)}\")"
   ]
  },
  {
   "cell_type": "markdown",
   "id": "171312b0",
   "metadata": {},
   "source": [
    "SVC takes parameters that can be used to optimize performance. These include the regularization parameter (default C = 1.0), kernel (default kernel = ‘rbf’) and the kernel coefficient (default gamma = ‘scale’).\n",
    "    \n",
    "RBF kernel SVM create a non-linear combinations of the features to uplift the samples onto a higher-dimensional feature space where you can use a linear decision boundary to separate your classes.   "
   ]
  },
  {
   "cell_type": "code",
   "execution_count": 14,
   "id": "d2512d6c",
   "metadata": {},
   "outputs": [
    {
     "data": {
      "image/png": "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\n",
      "text/plain": [
       "<Figure size 576x576 with 1 Axes>"
      ]
     },
     "metadata": {},
     "output_type": "display_data"
    },
    {
     "name": "stdout",
     "output_type": "stream",
     "text": [
      "Classification Report:\n",
      "----------------------\n",
      "               precision    recall  f1-score   support\n",
      "\n",
      "           0       0.98      0.99      0.98      2285\n",
      "           1       0.96      0.91      0.93       590\n",
      "\n",
      "    accuracy                           0.97      2875\n",
      "   macro avg       0.97      0.95      0.96      2875\n",
      "weighted avg       0.97      0.97      0.97      2875\n",
      "\n"
     ]
    }
   ],
   "source": [
    "# CONFUSION MATRIX\n",
    "cm = confusion_matrix(Ytest, SVC_Pred)\n",
    "clr = classification_report(Ytest, SVC_Pred)\n",
    "\n",
    "plt.figure(figsize=(8, 8))\n",
    "sns.heatmap(cm, annot=True, vmin=0, fmt='g', cbar=False, cmap='RdPu')\n",
    "plt.xticks(np.arange(3) + 0.5)\n",
    "plt.yticks(np.arange(3) + 0.5)\n",
    "plt.xlabel(\"Predicted\")\n",
    "plt.ylabel(\"Actual\")\n",
    "plt.title(\"Confusion Matrix\")\n",
    "plt.show()\n",
    "\n",
    "print(\"Classification Report:\\n----------------------\\n\", clr)"
   ]
  },
  {
   "cell_type": "markdown",
   "id": "fb23b0d9",
   "metadata": {},
   "source": [
    "#### K-Nearest Neighbor\n",
    "KNN is a non-parametric and lazy learning algorithm. Non-parametric means there is no assumption for underlying data distribution. In other words, the model structure determined from the dataset. In KNN, K is the number of nearest neighbors. The number of neighbors is the core deciding factor of KNN. "
   ]
  },
  {
   "cell_type": "code",
   "execution_count": 15,
   "id": "2f96dc18",
   "metadata": {},
   "outputs": [
    {
     "name": "stdout",
     "output_type": "stream",
     "text": [
      "accuracy_score: 0.9297391304347826\n",
      "F1_score: 0.7947154471544715\n"
     ]
    }
   ],
   "source": [
    "from sklearn.neighbors import KNeighborsClassifier\n",
    "knn = KNeighborsClassifier(n_neighbors=3)\n",
    "KNN_C = knn.fit(Xtrain,Ytrain)\n",
    "KNN_pred = KNN_C.predict(Xtest)\n",
    "print(f\"accuracy_score: {accuracy_score(Ytest, KNN_pred)}\")\n",
    "print(f\"F1_score: {f1_score(Ytest,KNN_pred)}\")"
   ]
  },
  {
   "cell_type": "markdown",
   "id": "e9fcfcdd",
   "metadata": {},
   "source": [
    "The parameters: n_neighbors=3 (Number of neighbors to use for kneighbors queries);\n",
    "weights='uniform'(All points in each neighborhood are weighted equally.); \n",
    "algorithm='auto'(It is used to compute the nearest neighbors. ‘auto’ will attempt to decide the most appropriate algorithm based on the values passed to fit method; \n",
    "metric='minkowski'(The distance metric to use for the tree. The default metric is minkowski, and with p=2 is equivalent to the standard Euclidean metric. ) "
   ]
  },
  {
   "cell_type": "code",
   "execution_count": 16,
   "id": "dd83c99a",
   "metadata": {},
   "outputs": [
    {
     "data": {
      "image/png": "iVBORw0KGgoAAAANSUhEUgAAAisAAAIdCAYAAAD8jT2YAAAAOXRFWHRTb2Z0d2FyZQBNYXRwbG90bGliIHZlcnNpb24zLjMuNCwgaHR0cHM6Ly9tYXRwbG90bGliLm9yZy8QVMy6AAAACXBIWXMAAAsTAAALEwEAmpwYAAAxIUlEQVR4nO3dd3iN9//H8ddJhIp1BIkYCUqJVY3ZhlotRe1NraKl6bSj2lIzRbVqFx3ECKp2KWpFUWp2qa8ZWyRCBBnn94cr59c0Q5A4n9TzcV39w7nHed9a9XQvloiICJsAAAAM5eToAQAAAFJDrAAAAKMRKwAAwGjECgAAMBqxAgAAjEasAAAAoxErwGNo//79atmypUqWLCmr1aoKFSpk+Hdu375dVqtVY8eOzfDv+q87deqUrFar+vbt6+hRgEeCWAEy0LFjxzRkyBD5+fnJy8tLBQoUUKlSpdSyZUvNmjVLkZGRj3ymyMhItWvXTjt37lTjxo01ePDgx/o3PavVav/n2LFjKa7XokUL+3pz5859qO8cO3asrFargoKCHmo/wOMii6MHAP6rJk6cqNGjRys+Pl6VK1dW+/btlTt3bl25ckU///yzBg0apHHjxun48eOPdK5ff/1Vly9fVo8ePTRp0qRH9r2VK1fWnj17lC9fvkf2nWmVJUsWxcbG6ttvv9XHH3+cZPnJkye1detW+3qOVqhQIe3Zs0e5c+d29CjAI0GsABngs88+08iRI1W4cGHNnTtX1atXT7JOSEiIBg0a9MhnO3/+vCTJ3d39kX6vq6urnnrqqUf6nWnl5uYmb29vLVy4UB988IFcXFwSLZ83b55sNpteeuklrV692kFT/j8XFxdjfy6BjMBlICCdnT59WqNHj5aLi4sWLVqUbKhIkp+fnzZv3pzk823btqlt27YqXry43N3d9fTTT2vw4MG6fPlyknX79u0rq9Wq7du3a8WKFapXr548PT1VrFgx9ejRQ2fPnrWv++/7HAIDA+2XNRIuRzRp0kRWqzXZeVO65+T48eN6++239cwzz6hgwYLy9vZWtWrV5O/vrzNnztxz+4R9vPHGGypbtqz9Uln37t11+PDhJOsGBQXZ93Po0CG1a9dOXl5e8vT0VKNGjbRr165k57+Xrl276vLly1q7dm2iz2NjYxUUFKTKlSurXLlyyW574MABDRo0SM8995y8vb3l4eEhX19fDR06VOHh4YnWbdKkiQIDAyVJ/v7+iS5DnTp1SlLiy0Tr1q3TSy+9pKJFi8rb21tS8ves7N+/X+7u7ipfvrwiIiISfWdERITKly+vAgUKaN++fQ/08wM4EmdWgHQWFBSkmJgYtWzZ8p43rmbLli3Rj7/66iv169dP2bNnV/PmzVWwYEHt3r1bM2fO1Jo1a7Ru3ToVLVo0yX7mzJmjdevWqXHjxvLz89PevXu1fPlyHT58WCEhIcqWLZvy5MmjwYMH6/Dhw1q7dq38/PxUs2ZNSXrgG2zPnz+vevXq6caNG6pfv76aNm2qO3fuKDQ0VKtWrVLbtm2Tnfef9u/fr+bNmysyMlINGzZUuXLldOLECa1atUrr1q3T/Pnz9eKLLybZ7sCBA5o8ebKqV6+url27KjQ0VCtXrlTz5s21bds2lS5d+r6OpVWrVho6dKi+/fZbNW/e3P75+vXrdeHCBQ0dOjRR/P3TN998o9WrV8vPz09169ZVXFycDhw4oGnTpunHH3/U5s2blStXLklSp06dJN09s9a4ceNEP/d58uRJtN/vv/9emzdvVoMGDdSjRw9dvHgxxfmfeeYZjRgxQgEBAXrjjTe0YMEC+7K+ffsqNDRUo0aNUuXKle/r5wUwAbECpLOff/5ZklS3bt372u706dMaPHiwXF1dtXHjRvn4+NiXjRo1ShMmTFD//v0VHBycZNvNmzdr69atKlOmjP2zXr16aenSpVqzZo1atWolq9WqgIAABQUFae3atapZs6YCAgIe8CjvWrFihSIiIjR69Gj5+/snWnb79m3FxMSkur3NZlOfPn0UGRmpadOm2X8jl6QtW7aoZcuW6tOnjw4fPixXV9dE265fv14zZ85U+/bt7Z999dVXeu+99zRz5kx9+umn93UsOXLkUJs2bfTNN9/o9OnT8vLykiR9++23ypkzp1q1aqUvvvgi2W3fe+89TZgwQc7Ozok+T5hn9uzZeu+99yRJnTt31unTpxUSEqImTZqoc+fOKc60ceNGLVmyRC+88EKajqFv377asWOH1qxZo2nTpumNN97Q1KlTtW7dOjVs2DDJvyMgs+AyEJDOEv70W6hQofvaLjg4WHfu3FHPnj0ThYokDRw4UJ6entqwYYPOnTuXZNvXX389UahIUrdu3STdvaE2ozg53f1fyL9DQrp71ihnzpypbr9792799ddf8vX1TRQqklSnTh29/PLLCgsL05o1a5Js++yzzyYKFUl65ZVXlCVLlgc+5m7duik+Pl7z5s2TJJ09e1YbN25U69atUz0WLy+vJKEiSd27d1fu3LmTvdyXFo0aNUpzqCSYOnWqihYtquHDh2vOnDkaPny4ihQpounTp8tisTzQHICjEStAOrPZbJJ0378xHDx4UJL0/PPPJ1mWLVs21ahRQ5J06NChJMsrVaqU5LPChQtLUpL7F9JTo0aNlCtXLg0cOFCdO3fW3LlzdfjwYcXHx6dp+9SOWbobLP9c75+SO2YXFxe5u7s/8DFXqlRJFStWVFBQkOLi4jRv3jzFxcXZwy8lMTExmjVrll566SV5e3vLzc1NVqtVefPmVWRkpP2m5vtVpUqV+94m4dFqm82m/v37y2azafbs2XJzc3ugGQATcBkISGcFCxbU0aNHU7y/ISUJ71xJ6SkdDw+PROv9U3KPsCb8ST8uLu6+5rgfRYsW1ebNmxUYGKgff/zRfgbE3d1dr732mt57771kzzgkSO9jlu4e98Mcc7du3dS/f3+tX79e8+fPV/ny5eXr65vqNj169NDq1atVrFgxNWnSRB4eHsqaNaskafr06bp9+/YDzfKgT2w9/fTTKlasmP7++2/5+vraQxfIrDizAqSzZ599VpK0devW+9ou4TffS5cuJbs84fJSRr5bI+GyTnLvErl27Vqy25QqVUqzZ8/W8ePHtW3bNo0aNUqurq4aNWqUJk6cmOr3mXDM/9a2bVu5urpq4MCBCg0NVffu3VNdf//+/Vq9erVq166tX375RdOmTdNHH32kgIAADR48+J737aTmQS/bDBs2TH///bfy5cunPXv2aNasWQ88A2ACYgVIZ507d5aLi4tWrlyp33//PdV1//kn7qefflrS3Ud8k1tv9+7didbLCAmPLYeGhiZZtn///lS3dXZ2VsWKFfXmm29q6dKlknTPd5KkdszS/wdfcpd8Mkru3LnVsmVLnT17VtmzZ1fbtm1TXT/hpX6NGzdO8n6Wffv2KTo6Osk2GXnWa9WqVZo1a5YqV66snTt3qnDhwvrggw+SvZQGZBbECpDOvLy89P777ysmJkbt2rXTL7/8kux6u3btSnTzZLt27ZQ1a1bNmTNHR48eTbTup59+qnPnzqlBgwby9PTMsNmrVq0qSUleJ3/o0CHNmDEjyfr79u1L9nHahM+eeOKJVL+vevXqKl26tPbt26fFixcnWrZ161atWrVK+fLlU+PGje/rOB7W0KFDNX/+fC1btizJ48T/lvDU0I4dOxJ9fvnyZQ0YMCDZbRLe4ptcFD6MU6dO6c0331Tu3Lk1Z84ceXh4aPbs2YqNjdWrr76q69evp+v3AY8K96wAGeDdd99VbGysxowZoxdffFFVqlSRr6+vcuXKpbCwMO3Zs0e///57olfPe3l5KTAwUP369VPdunXVokULeXh4aPfu3QoJCVHhwoXveVnlYXXu3FlTpkzR5MmT9dtvv6lcuXI6efKk1q1bp2bNmmnZsmWJ1l+yZIlmz56tZ599Vk8++aTc3Nx05swZrV27Vk5OTnr77bdT/T6LxaLp06erRYsW6tOnj5YvX25/z8rKlSuVNWtWzZgxI9mnjTJS4cKF7Tco30vCPSGrVq1SgwYNVKNGDV26dEkbN25UqVKlko3L2rVry8nJSTNmzFB4eLj93pTXXnvtnnGUkpiYGPXs2VPXrl3TN998o2LFikm6e1ly6NChGjlypP0xaiCzIVaADDJgwAC1aNFCs2fP1rZt27Ro0SLdvHlTVqtVZcuWVWBgYJLHdXv06KESJUroiy++0Jo1axQVFSVPT0+99tprGjBgQIa/Ij9fvnxas2aNPvzwQ4WEhGjnzp0qV66cvvrqK+XJkydJrLRp00YxMTHavXu3VqxYoZs3b8rDw8P+To+0vIDM19dXW7Zs0fjx47VlyxZt2rRJefLkUZMmTdS/f39VrFgxow43XTg7O2vhwoUaNWqUNmzYoJkzZ8rT01Ndu3bVgAEDkn2DccmSJTVnzhx9/vnnmj9/vv1SUbt27R44VoYPH669e/eqZ8+eiV5qJ0n9+vVTSEiIli5dqueff15du3Z9oO8AHMUSERFhc/QQAAAAKeGeFQAAYDRiBQAAGI1YAQAARiNWAACA0YgVAABgtEz96HJH61BHjwAYa210oKNHAIx27XbG/b1ZSF+cWQEAAEYjVgAAgNGIFQAAYDRiBQAAGI1YAQAARiNWAACA0YgVAABgNGIFAAAYjVgBAABGI1YAAIDRiBUAAGA0YgUAABiNWAEAAEYjVgAAgNGIFQAAYDRiBQAAGI1YAQAARiNWAACA0YgVAABgNGIFAAAYjVgBAABGI1YAAIDRiBUAAGA0YgUAABiNWAEAAEYjVgAAgNGIFQAAYDRiBQAAGI1YAQAARiNWAACA0YgVAABgNGIFAAAYjVgBAABGI1YAAIDRiBUAAGA0YgUAABiNWAEAAEYjVgAAgNGIFQAAYDRiBQAAGI1YAQAARiNWAACA0YgVAABgNGIFAAAYjVgBAABGI1YAAIDRiBUAAGA0YgUAABiNWAEAAEYjVgAAgNGIFQAAYDRiBQAAGI1YAQAARiNWAACA0YgVAABgNGIFAAAYjVgBAABGI1YAAIDRiBUAAGA0YgUAABiNWAEAAEYjVgAAgNGIFQAAYDRiBQAAGI1YAQAARiNWAACA0YgVAABgNGIFAAAYjVgBAABGI1YAAIDRiBUAAGA0YgUAABiNWAEAAEYjVgAAgNGIFQAAYDRiBQAAGI1YAQAARiNWAACA0YgVAABgNGIFAAAYjVgBAABGI1YAAIDRiBUAAGA0YgUAABiNWAEAAEYjVgAAgNGIFQAAYLQsjh4AZmg3pIGea1VJRUq7K+Z2rP7cdVJfB6zQqd/OS5Kcszip66imqtKonDyfzK+bkbd06Kej+mrICl0+E27fT16P3Oo5vqUqvVhGrrmy6dyxy1r6yUZtWfCLJMnd200dP2ikinWfkptnbl09H6nti/dpwcfrdOdWjEOOHcgoQYuCtWjpMp09d/fXUaknS6hv756q83wtB08GZC7ECiRJFeqU0ppp23T0l1OyWCx65eMmGr3xbfUpO1I3wm8qm2tWlfQtqsWjf9D/DoQqR57s6jWxlUb+4K83Ko5RfFy8JKn/t12Vy81VI5vP1LXL1/Vsy0oaMK+rrpwJ15Htx1S0TEE5OTtpat9FOvf3JRX1Kai3ZnVSrnw59MXrCx38swCkLw8Pdw14920V8/JSfHy8vl+1Wv7v9deyhUEq81QpR48HZBqWiIgIm6O+/OzZs5o7d652796tS5cuyWKxqECBAqpRo4a6d++uIkWKpLp9R+vQRzTp4+eJHNm05NoEjWwxU3tWH0l2naI+BTXz9w/0RoXROnnknCRp2fVPNeOtYP349S77el+fHKmVX2zRdxM3JbufJn1rqcvIl9Uh/+B0P47H2droQEePgGRUq1VX/d5+Ux3atnb0KI+9a7fjHD0C0shh96z8/PPPql69ur7//nv5+PioTZs2atWqlXx8fPT999/r2Wef1a5du+69I2SI7LmyydnZSTfCo1NcxzX3E5Kk6+E37Z/9tuN/qtXOV7nccshisahGs4rKXSCnDmz8K9X9pPY9wH9BXFyc1qxbr5s3b+qZShUdPQ6QqTjsMlBAQIA6deqkTz75JNnlgwcPVkBAgH766adHPBkkqc/nbfW//Wf058/Hk12excVZvSe20q6VhxR2NsL++dh2czRk0ataHPaJYmPiFHM7Vp90/ErHD4Ymu58CRfOq1YAXFDxmfUYcBuBwf/39tzp06aHbd+7I1TW7pkyaoNKluAQE3A+HnVn5888/1bt37xSX9+zZU3/88ccjnAgJek9spbI1S2h06y8VH5/0KqGTs5MGzu+uHFZXTeoxP9GyrqOaKnf+HAqoP1nvVAnUsvEb1f/bripesXCS/Vjdc2nk+je1/8c/tXzS5gw7HsCRihcrpu+DF2rxvK/VsW0bDf7gIx39+5ijxwIyFYfFioeHR6qXeXbt2iUPD49HOBEkqfenrVW7YxUF1JusCyfCkix3cnbS4IU9VKxiIQ2tP1nXr0bZlxUskV/N366jyb0X6ODmv3Ti0Fkt+Hitjv5ySs3eqp1oP3k9cmvcT+/o1JFzmtDlmww/LsBRsrq4yNurqCqUK6v+77wln9Kl9fX8BY4eC8hUHHYZ6K233lK/fv3066+/qk6dOnJ3d5fFYtHFixe1ZcsWLViwQGPHjnXUeI+l1z9ro+c7VNaQOp8p9K+LSZY7Z3HSkEWvyrt8IQ2u85nCL0YmWv6Ea1ZJsj8ZlCA+Ll4Wp//v4rwF74bK6d/OK7DjV0nWB/7L4uPjdefOHUePAWQqDouVXr16yc3NTdOmTdO8efMUF3f3rmxnZ2dVqlRJM2bMUMuWLR013mPnjSntVK9LNY1sMUs3wqOV1yO3JCn6xm3dirotJ2cnDV3SS6WqemtE0xmSTfZ1oq5F686tGJ3584LO/n1J/tM6aPaA7xQZFqVnWzytZ14so4+bz5QkuXnmUeCWdxR27ppmvrtUefLntM9w7fL1ZC87AZnVhM8mq87ztVTQw0NRN6O0eu0P2rN3n2ZO+dzRowGZikMfXU4QExOjsLC7lxzy5csnFxeXNG3Ho8vpZ61tarKfBw1fo6ARa+Xu7aavT45Mdp1Pu8/Txm/uXtIrVLKAeoxrrrI1n1T2nHdfCrf8083a9O1uSdIL3Wqo39ddkt1P92If6NKpq+lwNJB4dNkEQz74SLt/2avLV8KUK2dOlX6qlHp266Jafs85ejSIR5czEyNi5UERK0DKiBUgdcRK5sHfDQQAAIxGrAAAAKMRKwAAwGjECgAAMBqxAgAAjEasAAAAoxErAADAaMQKAAAwGrECAACMRqwAAACjESsAAMBoxAoAADAasQIAAIxGrAAAAKMRKwAAwGjECgAAMBqxAgAAjEasAAAAoxErAADAaMQKAAAwGrECAACMRqwAAACjESsAAMBoxAoAADAasQIAAIxGrAAAAKMRKwAAwGjECgAAMBqxAgAAjEasAAAAoxErAADAaMQKAAAwGrECAACMRqwAAACjESsAAMBoxAoAADAasQIAAIxGrAAAAKMRKwAAwGjECgAAMBqxAgAAjEasAAAAoxErAADAaMQKAAAwGrECAACMRqwAAACjESsAAMBoxAoAADAasQIAAIxGrAAAAKMRKwAAwGjECgAAMBqxAgAAjEasAAAAoxErAADAaMQKAAAwGrECAACMRqwAAACjESsAAMBoxAoAADAasQIAAIxGrAAAAKMRKwAAwGjECgAAMBqxAgAAjEasAAAAoxErAADAaMQKAAAwGrECAACMRqwAAACjESsAAMBoxAoAADAasQIAAIxGrAAAAKMRKwAAwGjECgAAMBqxAgAAjEasAAAAoxErAADAaMQKAAAwGrECAACMRqwAAACjESsAAMBoxAoAADAasQIAAIxGrAAAAKMRKwAAwGiWiIgIm6OHeFC5o284egTAWLaIcEePABjtumdRR4+ANOLMCgAAMBqxAgAAjEasAAAAoxErAADAaMQKAAAwGrECAACMRqwAAACjESsAAMBoxAoAADAasQIAAIxGrAAAAKMRKwAAwGjECgAAMBqxAgAAjEasAAAAoxErAADAaMQKAAAwGrECAACMRqwAAACjESsAAMBoxAoAADAasQIAAIxGrAAAAKMRKwAAwGhZUlqQN29eWSyW+9qZxWJRWFjYQw8FAACQIMVYGTRo0H3HCgAAQHqzRERE2Bw9xIPKHX3D0SMAxrJFhDt6BMBo1z2LOnoEpBH3rAAAAKOleBkoJefPn9fBgwd17do1xcfHJ1nesWPHdBkMAABAuo/LQHfu3NGbb76pZcuWKT4+XhaLRTbb3U3/eW/L1atXM2bSZHAZCEgZl4GA1HEZKPNI82WgMWPGaNmyZQoICNDq1atls9k0ffp0LV++XPXq1VOFChUUEhKSkbMCAIDHUJpjZdmyZWrfvr0GDBggHx8fSZKnp6fq1KmjJUuWyNXVVXPnzs2wQQEAwOMpzbFy6dIlVa9eXZKUJcvdW11u3bol6e5loObNm2vlypUZMCIAAHicpTlW8uXLp4iICElSrly5lD17dp08edK+PCYmRlFRUek9HwAAeMyl+WmgChUq6JdffpF090yKn5+fpk2bpooVKyo+Pl6zZs1ShQoVMmxQAADweErzmZXu3bvLZrPZL/2MHDlSUVFRatKkiV5++WXdvHlTo0ePzrBBAQDA4+mh3mAbGRmp7du3y9nZWTVq1JDVak3H0e6NR5eBlPHoMpA6Hl3OPHjdPvAfRawAqSNWMo8037Ny5syZNK1XtCj/8gEAQPpJc6xUrFgxTX8L86N8gy0AAPjvS3OsTJkyJUmsxMXF6dSpU1q0aJHc3d3Vq1evdB8QAAA83tIcK507d05x2bvvvqt69erpxg3uIQEAAOkrzY8upyZnzpzq3Lmzpk2blh67AwAAsEuXWJEkFxcXnT9/Pr12BwAAICmdYuXw4cOaMWOGSpcunR67AwAAsHvop4GuXbumyMhI5cyZU1OnTk3X4QAAANIcK35+fklixWKxyGq1qkSJEmrduvUjf4MtAAD47+MNtsB/FG+wBVLHG2wzjzTfs+Lv76+9e/emuHzfvn3y9/dPl6EAAAASpDlWFixYoBMnTqS4/NSpU1q4cGG6DAUAAJAg3R5dvnr1qrJly5ZeuwMAAJB0jxtsQ0JCtGPHDvuPV61apePHjydZLyIiQt99953Kly+f/hMCAIDHWqqxsn37dgUGBkq6++TPqlWrtGrVqmTXLVWqlMaOHZv+EwIAgMdaqk8DRUVFKSoqSjabTWXKlNH48ePVrFmzxDuwWOTq6qocOXJk+LD/xtNAQMp4GghIHU8DZR6pnlnJkSOHPUIOHjyoAgUKKHv27I9kMAAAAOk+brCNjo7WypUrU1weHByso0ePpstQAAAACdIcKyNGjNCyZctSXL5s2TJ9/PHH6TIUAABAgjTHyt69e1WrVq0Ul9eqVSvVl8YBAAA8iDTHyrVr11K9X+WJJ55QeDg39AEAgPSV5ljx9vZWSEhIistDQkJUpEiRdBkKAAAgQZpjpW3btlqxYoUmTZqkmJgY++exsbH6/PPPtWLFCrVp0yZDhgQAAI+vNP+tyzExMerQoYM2b94sq9WqkiVLymKx6NixYwoPD1ft2rUVHBysrFmzZvTMdrxnBUgZ71kBUsd7VjKPNMeKJNlsNi1YsEArV67UyZMnZbPZVLx4cTVv3lwdO3bUH3/8obJly2bkvIkQK0DKiBUgdcRK5nFfsZKcCxcuaMmSJQoODtZvv/2mq1evptds90SsACkjVoDUESuZR6pvsE3JjRs3tHLlSgUHB2vHjh2Ki4uTj4+P3n333XQeDwAAPO7SHCtxcXHauHGjgoODtW7dOkVHR8tisahXr17y9/eXt7d3Rs4JAAAeU/eMlb1792rx4sVavny5wsLC5OPjo/79+6tKlSpq0aKF6tSpQ6gAAIAMk2qsVK5cWSdOnFCRIkXUpUsXtWnTRuXKlZMknT59+pEMCAAAHm+pxsrx48fl7e2tYcOGqXHjxnJ1dX1UcwEAAEi6x0vhpk6dquLFi+v111/XU089pZ49e2rt2rWJXgoHAACQkVI9s9KpUyd16tRJFy9eVHBwsIKDg9W5c2flzp1bNWvWlMVikcVieVSzAgCAx9B9v2fljz/+0OLFi7V06VKdPXtWbm5uatCggRo1aqT69esrR44cGTVrErxnBUgZ71kBUsd7VjKPh3op3Pbt27V48WKtXLlS169f1xNPPKHz58+n53ypIlaAlBErQOqIlczjod9gK0m3b9/W2rVrFRwcrIULF6bHXGlCrAApI1aA1BErmUe6xIqjECtAyogVIHXESuaR6tNAAAAAjkasAAAAoxErAADAaMQKAAAwGrECAACMRqwAAACjESsAAMBoxAoAADAasQIAAIxGrAAAAKMRKwAAwGjECgAAMFoWRw8Ac/1y8KDmLgrWb0eP6tKVMI0ZMkitGr1kX37l6lVNmPmlQn7Zq+s3bqjK0xU17J23VKxIEfs6p8+e1SfTZmjf4SO6ExOjWtWqatg7bym/m5sjDglIN0Fr1il4/QadvXRZklTSq6j6tGujOlUqS5KuRERo4jfzFLL/oK5HRalKubJ6/7WeKlaokH0fwes3aM22HfrjxAldj7qpjbOmq7CHu0OOBzAZZ1aQopvR0SpVvLiGvvWmnsiWLdEym80m//c/1KnQUE0d/bG+mz1ThTw89Gq/AboZHW3fvueAQbJJ+nrSBC2YMlkxsbHqG/C+4uPjHXBEQPopmD+f+nfromWTxmvJxE9Uo0J5vTUmUH+dPCmbzaY3xwTq1LnzmjJ0sL6bNEGF3Avo1Q9H6OatW/Z9RN++I79nKsm/Q3sHHglgPmIFKapdo4b6vdZLL9WpLScnS6JlJ0NDdfD33/XRe++qoo+PSnh5aXi/d3Xr9h2t2bRZkvTrkSMKPX9BY4YMUuknn1TpJ0toXMBgHfnrqHb9ut8RhwSkm/rVq+n5yr7y9vRU8cKF9G6XzsqRPbsO/HlUJ8+d18G/jurDPq+p4lOlVLxIYX3U5zXdvnNHa7btsO+jW7OX9VqbVqrsU8aBRwKYj1jBA7lzJ0aSlDWri/0zJycnZXVx0b7DR+zrWCwWZcua1b5OtqxZ5eRk0b7Dhx/twEAGiouL05ptO3Tz1i09U6a0YmLu/vrI5vKvXx9ZXPTrH384akwg0zI6VkJDQ+Xv7+/oMZCMEt5eKlTQQ5O+nKOIyEjdiYnRlwsW6sLly7ocFiZJqlSurFyzZ9cn02foZnS0bkZHK3DaDMXFxety2FUHHwHw8I6ePKXK7Tvr6TYdNGLGTE0OGKSninmreJHCKuReQJPmByni+vW7vz6WLdeFsDBdvhru6LGBTMfoWAkPD9fChQsdPQaS4ZIliyZ/PEJnzp1TjaYt9EzDRtq9/4Cer15Nzk53/7Nys1r12YgPtX33HlVu9LKqNmmq6zduqOxTpezrAJlZscKF9N1nE7Tok7Hq8FJDBXz2hY6eOn3318fggTpz4aKefaW7fNt10p7DR1Sr8jNycua/feB+OfRpoHuFSGho6COaBA+ifOmn9P2cL3X9xg3FxMbKzWpVuz5vqHzp0vZ1alatqh8XBik84pqcnZ2VO1dO1WzZWkU8CzpwciB9ZHVxkbenpySpfKmSOvz3MX2zcpVGv+WvciWf1PLPJup6VNTdXx958qj9gCEqV/JJB08NZD4OjZU33nhDrq6uslgsyS7niZHMIVfOnJLu3nR75K+jertnjyTr5LXmkSTt+vVXhYVHqK7fc490RuBRsNlsiomJTfRZrhw5JEknz53Tkf/9T2937uCI0YBMzaGx4unpqXHjxqlZs2bJLj906JDq1KnzaIeCXdTNaJ0+e1aSFB9v0/mLl/TH38eUJ3cuFfLw0A8/bZE1Tx4VLuiho8dPaPQXU1S/pp9qVq1q38eytetUwstL+fJadeC33zX6i6nq1raNSnh5OeqwgHQx8Zt5ql2lsjzz51dUdLRWb9uuPUd+04wPhkqSfgjZqby5cqmQewEdPXVaY2bPVf3qVeX3TCX7Pi6Hh+tKeIROnjsvSTp25owio6LkWSC/rLlyOeKwACM5NFaefvppHTp0KMVYsVgsstlsj3gqJDjy11/q9m4/+4+/+OprffHV12rxUkONCxisS2FXNW7qdIWFh6tAPjc1b9hAfbt2SbSPk2fOaNKXs3Ut8roKFSyoPq90Vvd2bR71oQDp7kpEhAZN+lxXwiOUK4ernvL21qwP31dN32ckSZevhitwztcKu3ZN+fNa1bxuHfX913/7i3/YoKmLgu0/7jNyjCRpzNv+alm/3iM7FsB0loiICIfVwM6dOxUVFaUXX3wx2eVRUVHav3+/atasmezy3NE3MnI8IFOzRfDUCZCa655FHT0C0sihsfKwiBUgZcQKkDpiJfPgGToAAGA0YgUAABiNWAEAAEYjVgAAgNGIFQAAYDRiBQAAGI1YAQAARiNWAACA0YgVAABgNGIFAAAYjVgBAABGI1YAAIDRiBUAAGA0YgUAABiNWAEAAEYjVgAAgNGIFQAAYDRiBQAAGI1YAQAARiNWAACA0YgVAABgNGIFAAAYjVgBAABGI1YAAIDRiBUAAGA0YgUAABiNWAEAAEYjVgAAgNGIFQAAYDRiBQAAGI1YAQAARiNWAACA0YgVAABgNGIFAAAYjVgBAABGI1YAAIDRiBUAAGA0YgUAABiNWAEAAEYjVgAAgNGIFQAAYDRiBQAAGI1YAQAARiNWAACA0YgVAABgNGIFAAAYjVgBAABGI1YAAIDRiBUAAGA0YgUAABiNWAEAAEYjVgAAgNGIFQAAYDRiBQAAGI1YAQAARiNWAACA0YgVAABgNGIFAAAYjVgBAABGI1YAAIDRiBUAAGA0YgUAABiNWAEAAEYjVgAAgNGIFQAAYDRiBQAAGI1YAQAARiNWAACA0YgVAABgNGIFAAAYjVgBAABGI1YAAIDRiBUAAGA0YgUAABiNWAEAAEYjVgAAgNGIFQAAYDRiBQAAGI1YAQAARiNWAACA0YgVAABgNGIFAAAYjVgBAABGI1YAAIDRiBUAAGA0YgUAABiNWAEAAEazRERE2Bw9BAAAQEo4swIAAIxGrAAAAKMRKwAAwGjECgAAMBqxAgAAjEasAAAAoxErAADAaMQKAAAwGrECAACMRqwAAACjESsAAMBoxAoAADAasQIAAIxGrAAAAKMRKwAAwGjECgAAMBqxAgAAjEasAAAAoxErAADAaMQKAAAwGrECAACMRqwAAACjESsAAMBoxAoAADAasQIAAIxGrAAAAKMRKwAAwGjECgAAMBqxAgAAjEasAAAAoxErAADAaMQKAAAwGrECAACMRqwAAACjESsAAMBoxAoAADAasQIAAIxGrAAAAKMRKwAAwGjECgAAMBqxAgAAjEasAAAAoxErAADAaMQKAAAwGrECAACMRqwAAACjESsAAMBoxAoAADAasQIAAIxGrAAAAKMRKwAAwGjECgAAMBqxAgAAjEasAAAAoxErAADAaMQKAAAwGrECAACMRqwAAACjESsAAMBoxAoAADAasQIAAIxGrAAAAKMRKwAAwGjECgAAMBqxAgAAjEasAAAAoxErAADAaMQKAAAwGrECAACMRqwAAACjESsAAMBoxAoAADAasQIAAIxGrAAAAKMRKwAAwGjECgAAMBqxAgAAjEasAAAAoxErAADAaMQKAAAwGrECAACMRqwAAACjESsAAMBoxAoAADAasQIAAIxGrAAAAKMRKwAAwGjECgAAMBqxAgAAjEasAAAAoxErAADAaMQKAAAwGrECAACMRqwAAACjESsAAMBoxAoAADAasQIAAIxGrOChzZ49WxUrVpSHh4dq166tnTt3OnokwAghISHq0KGDfHx8ZLVaFRQU5OiRgEyJWMFD+e677zRkyBD1799f27ZtU7Vq1dS2bVudOXPG0aMBDhcVFaWyZctq3Lhxyp49u6PHATItS0REhM3RQyDzql+/vsqVK6fJkyfbP/P19VXz5s310UcfOXAywCyFCxfWJ598os6dOzt6FCDT4cwKHtidO3d04MAB1atXL9Hn9erV0+7dux00FQDgv4ZYwQMLCwtTXFycChQokOjzAgUK6NKlSw6aCgDwX0Os4KFZLJZEP7bZbEk+AwDgQREreGD58uWTs7NzkrMoV65cSXK2BQCAB0Ws4IFlzZpVlSpV0k8//ZTo859++knVq1d30FQAgP+aLI4eAJmbv7+/Xn/9dVWuXFnVq1fX3LlzdeHCBfXo0cPRowEOd+PGDR0/flySFB8fr9DQUB06dEh58+ZV0aJFHTwdkHnw6DIe2uzZs/X555/r4sWL8vHx0ZgxY+Tn5+fosQCH2759u5o2bZrk844dO2r69OkOmAjInIgVAABgNO5ZAQAARiNWAACA0YgVAABgNGIFAAAYjVgBAABGI1YAAIDRiBUARhg7dqysVmuizypUqKC+ffs6ZqAUWK1WjR071tFjAI8VYgWAJCkoKEhWq9X+T758+VS2bFm9+eabunDhgqPHS7MbN25o7Nix2r59u6NHAZBOeN0+gESGDBmi4sWL6/bt29q1a5cWLFigkJAQ7dy5U9mzZ3+ks+zdu1dOTvf3Z6qoqCgFBgZKkmrVqpURYwF4xIgVAInUr19fVatWlSR17dpVefPm1dSpU7V27Vq1bt06yfo3b96Uq6trhsySLVu2DNkvgMyFy0AAUvX8889Lkk6ePKm+ffvKw8NDp0+fVqdOneTl5aW2bdva1122bJnq168vT09PeXl5qX379vrzzz+T7HP9+vXy8/OTh4eHKleurG+//TbZ707unpU7d+5o/Pjxqlq1qtzd3VWqVCl17NhRf/zxh06dOqXSpUtLkgIDA+2XtP65jwsXLuidd95RmTJl5O7uLl9fX33++eey2RL/zSORkZF65513VKxYMRUtWlRdunTJVJfDgP8SzqwASNWJEyckSW5ubpLu/u3BrVq1kq+vr0aMGCFnZ2dJ0meffabhw4eradOm6tChg6KiojR79mw1bNhQW7duVbFixSRJW7duVadOnVSiRAm9//77unXrlkaOHCkPD497zhIfH6+OHTtq06ZNatasmXr37q3o6Ght375dBw4cULNmzTR+/HgNHDhQL7/8sv0vESxevLgk6fLly3rhhRcUGxurbt26qWDBgvr555/10Ucf6fz58xo3bpwkyWaz6ZVXXtH27dvVpUsXVahQQVu2bEkUZgAeHWIFQCKRkZEKCwvTrVu3tHv3bn3yySfKnj27GjZsqD179igmJkYNGjTQmDFj7NucOXNGo0aN0uDBgxUQEGD/vEOHDqpWrZomTJigKVOmSJI+/PBDWa1WbdiwQXnz5pUkNW/eXM8999w9Z1u4cKE2bdqkYcOGacCAAfbP33nnHdlsNlksFjVr1kwDBw5UuXLl1L59+0Tbjxo1Srdv31ZISIjc3d0lST169FDBggU1ZcoU9e3bV97e3vrhhx+0bds2DR06VIMGDZIk9e7dW71799bhw4cf8GcWwIPiMhCARFq3bq0nn3xS5cqV06uvvioPDw8tXrxYhQoVsq/Tq1evRNusWrVKsbGxat26tcLCwuz/uLi4qEqVKtq2bZsk6eLFizp48KA6dOhgDxVJKl26tOrXr3/P2VauXKk8efLorbfeSrLMYrGkuq3NZtOKFSvUsGFDOTs7J5qzfv36io+PV0hIiKS7l6mcnJz0+uuvJ9qHaY9RA48LzqwASCQwMFClS5dWtmzZVKRIERUpUiRRCDg5OcnLyyvRNv/73/8kSdWqVUt2nwk34J4+fVqSVKpUqSTrlCxZUhs2bEh1thMnTqhkyZIPdOPtlStXFBERofnz52v+/PkpriPdPVPk7u6uPHnyJJkRwKNHrABIxNfX1/40UHJcXFyUJUvi/3XEx8dLkpYuXZpkmST748cJN7Emdxbk3ze4JifhUs+DSJixTZs2euWVV5Jdp0SJEg/9PQDSH7EC4KEl3MBapEgRlSlTJsX1vL29JUlHjx5Nsizh7ExqSpQood27d+vOnTvKmjVrsuukFBn58+dX7ty5FRsbqzp16qT6PV5eXtqyZYuuXbuW6OzKsWPH7jkjgPTHPSsAHlqzZs2UJUsWjR071n4G458SLq94eHioYsWKWrRokcLDw+3L//rrL23atClN3xMREaGpU6cmWZZwZibhklNERESi5c7OzmrWrJlWr16tAwcOJNn+2rVriomJkSQ1aNBA8fHxmjlzZqJ1pk+ffs8ZAaQ/zqwAeGjFihXTiBEj9P777+uFF15Q06ZNlTdvXp05c0YbNmxQlSpVNGnSJEnSiBEj1Lp1azVo0EBdu3ZVdHS0vvzyS/n4+OjIkSOpfk+HDh0UHBysESNG6ODBg/Lz89OtW7e0Y8cOtWzZUh06dFDOnDlVqlQpfffddypZsqTc3Nzk7e2tKlWqaPjw4QoJCdFLL72kLl26qGzZsrp+/bp+//13rVq1Sr/++qs8PDzUqFEj+fn5aezYsQoNDVXFihX1008/6dSpU4/ipxPAvxArANKFv7+/SpYsqS+++EKffvqpYmNj5enpqRo1aqhLly729erWraugoCCNHDlSI0eOVNGiRfXBBx/o7Nmz94wVZ2dnLV68WBMnTtTSpUu1Zs0a5c2bV1WqVFGlSpXs602dOlUBAQEaNmyYbt++rY4dO6pKlSrKnz+/Nm3apPHjx2vNmjX6+uuvlSdPHpUsWVJDhgyxP6FksVi0YMECDRs2TN9//72WL1+u2rVra8mSJfLx8cmQnz8AKbNERETc+642AAAAB+GeFQAAYDRiBQAAGI1YAQAARiNWAACA0YgVAABgNGIFAAAYjVgBAABGI1YAAIDRiBUAAGA0YgUAABjt/wDj1Y76UmR+0gAAAABJRU5ErkJggg==\n",
      "text/plain": [
       "<Figure size 576x576 with 1 Axes>"
      ]
     },
     "metadata": {},
     "output_type": "display_data"
    },
    {
     "name": "stdout",
     "output_type": "stream",
     "text": [
      "Classification Report:\n",
      "----------------------\n",
      "               precision    recall  f1-score   support\n",
      "\n",
      "           0       0.92      1.00      0.96      2285\n",
      "           1       0.99      0.66      0.79       590\n",
      "\n",
      "    accuracy                           0.93      2875\n",
      "   macro avg       0.96      0.83      0.88      2875\n",
      "weighted avg       0.93      0.93      0.92      2875\n",
      "\n"
     ]
    }
   ],
   "source": [
    "# CONFUSION MATRIX\n",
    "\n",
    "cm = confusion_matrix(Ytest, KNN_pred)\n",
    "clr = classification_report(Ytest, KNN_pred)\n",
    "\n",
    "plt.figure(figsize=(8, 8))\n",
    "sns.heatmap(cm, annot=True, vmin=0, fmt='g', cbar=False, cmap='RdPu')\n",
    "plt.xticks(np.arange(3) + 0.5)\n",
    "plt.yticks(np.arange(3) + 0.5)\n",
    "plt.xlabel(\"Predicted\")\n",
    "plt.ylabel(\"Actual\")\n",
    "plt.title(\"Confusion Matrix\")\n",
    "plt.show()\n",
    "\n",
    "print(\"Classification Report:\\n----------------------\\n\", clr)"
   ]
  },
  {
   "cell_type": "markdown",
   "id": "16533d39",
   "metadata": {},
   "source": [
    "#### Random Forest\n",
    "Random forest is a Supervised Machine Learning Algorithm that is used widely in Classification and Regression problems.\n",
    "One of the most important features of the Random Forest Algorithm is that it can handle the data set containing continuous variables as in the case of regression and categorical variables as in the case of classification. It performs better results for classification problems."
   ]
  },
  {
   "cell_type": "code",
   "execution_count": 17,
   "id": "03bf0e74",
   "metadata": {},
   "outputs": [
    {
     "name": "stdout",
     "output_type": "stream",
     "text": [
      "accuracy_score: 0.9756521739130435\n",
      "F1_score: 0.9404761904761906\n"
     ]
    }
   ],
   "source": [
    "from sklearn.ensemble import RandomForestClassifier\n",
    "RF = RandomForestClassifier(criterion='gini',n_estimators=200 )\n",
    "Rnd_pred = RF.fit(Xtrain,Ytrain).predict(Xtest)\n",
    "print(f\"accuracy_score: {accuracy_score(Ytest, Rnd_pred)}\")\n",
    "print(f\"F1_score: {f1_score(Ytest,Rnd_pred)}\")"
   ]
  },
  {
   "cell_type": "markdown",
   "id": "2c7f8701",
   "metadata": {},
   "source": [
    "The parameters: n_estimators=200 is the number of trees to be used in the forest and criterion='gini'(default) for Gini impurity is used to measure the quality of a split. "
   ]
  },
  {
   "cell_type": "code",
   "execution_count": 18,
   "id": "87051e43",
   "metadata": {},
   "outputs": [
    {
     "data": {
      "image/png": "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\n",
      "text/plain": [
       "<Figure size 576x576 with 1 Axes>"
      ]
     },
     "metadata": {},
     "output_type": "display_data"
    },
    {
     "name": "stdout",
     "output_type": "stream",
     "text": [
      "Classification Report:\n",
      "----------------------\n",
      "               precision    recall  f1-score   support\n",
      "\n",
      "           0       0.98      0.99      0.98      2285\n",
      "           1       0.94      0.94      0.94       590\n",
      "\n",
      "    accuracy                           0.98      2875\n",
      "   macro avg       0.96      0.96      0.96      2875\n",
      "weighted avg       0.98      0.98      0.98      2875\n",
      "\n"
     ]
    }
   ],
   "source": [
    "# CONFUSION MATRIX\n",
    "\n",
    "cm = confusion_matrix(Ytest, Rnd_pred)\n",
    "clr = classification_report(Ytest, Rnd_pred)\n",
    "\n",
    "plt.figure(figsize=(8, 8))\n",
    "sns.heatmap(cm, annot=True, vmin=0, fmt='g', cbar=False, cmap='BuPu')\n",
    "plt.xticks(np.arange(3) + 0.5)\n",
    "plt.yticks(np.arange(3) + 0.5)\n",
    "plt.xlabel(\"Predicted\")\n",
    "plt.ylabel(\"Actual\")\n",
    "plt.title(\"Confusion Matrix\")\n",
    "plt.show()\n",
    "\n",
    "print(\"Classification Report:\\n----------------------\\n\", clr)"
   ]
  },
  {
   "cell_type": "markdown",
   "id": "f1f5d172",
   "metadata": {},
   "source": [
    "### Boosting  \n",
    "Boosting is an ensemble modeling technique that attempts to build a strong classifier from the number of weak classifiers. It is done by building a model by using weak models in series. It allow us to take a sample of Decision Trees into account, calculate which features to use or questions to ask at each split, and make a final predictor based on the aggregated results of the sampled Decision Trees."
   ]
  },
  {
   "cell_type": "markdown",
   "id": "448b24a2",
   "metadata": {},
   "source": [
    "#### Adaboost Classifier\n",
    "AdaBoost was the first really successful boosting algorithm developed for the purpose of binary classification. AdaBoost is short for Adaptive Boosting and is a very popular boosting technique that combines multiple “weak classifiers” into a single “strong classifier”."
   ]
  },
  {
   "cell_type": "code",
   "execution_count": 19,
   "id": "15c53b2a",
   "metadata": {},
   "outputs": [
    {
     "name": "stdout",
     "output_type": "stream",
     "text": [
      "accuracy_score: 0.9450434782608695\n",
      "F1_score: 0.8609154929577465\n"
     ]
    }
   ],
   "source": [
    "from sklearn.ensemble import AdaBoostClassifier\n",
    "from sklearn import metrics\n",
    "model2 = AdaBoostClassifier(n_estimators=200)   # default setting of adaboost uses decision tree in background\n",
    "model2.fit(Xtrain,Ytrain)\n",
    "Ada_pred=model2.predict(Xtest)\n",
    "print(f\"accuracy_score: {accuracy_score(Ytest, Ada_pred)}\")\n",
    "print(f\"F1_score: {f1_score(Ytest,Ada_pred)}\")"
   ]
  },
  {
   "cell_type": "markdown",
   "id": "91243017",
   "metadata": {},
   "source": [
    "Adaboost parameters:n_estimators=200 gives the maximum number of estimators at which boosting is terminated. And learning_rate=1.0 and in case of perfect fit, the learning procedure is stopped early."
   ]
  },
  {
   "cell_type": "code",
   "execution_count": 20,
   "id": "8fabd1c2",
   "metadata": {},
   "outputs": [
    {
     "data": {
      "image/png": "iVBORw0KGgoAAAANSUhEUgAAAisAAAIdCAYAAAD8jT2YAAAAOXRFWHRTb2Z0d2FyZQBNYXRwbG90bGliIHZlcnNpb24zLjMuNCwgaHR0cHM6Ly9tYXRwbG90bGliLm9yZy8QVMy6AAAACXBIWXMAAAsTAAALEwEAmpwYAAAxMUlEQVR4nO3de3zP9f//8ft7M7ON7Y1s5rAhYs7NsZZDlIpyPsuplJhOjjkUopw6KXMKfeSUITmXnGcyOauURJicwozNYYf37w/fvX+928Gw7f2U2/Vy6XL5eB3e78drfS65eZ1YYmJibAIAADCUi7MHAAAAyAixAgAAjEasAAAAoxErAADAaMQKAAAwGrECAACMRqwA96E9e/aoRYsWKl26tKxWqypVqpTt3xkRESGr1aoxY8Zk+3f91x07dkxWq1W9evVy9ihAjiBWgGx0+PBhvfXWWwoJCVFAQIAKFSqkMmXKqEWLFpo+fbpiY2NzfKbY2Fi1bdtW27ZtU+PGjTVo0KD7+jc9q9Vq/+fw4cPpbte8eXP7drNmzbqr7xwzZoysVqvmzZt3V58D3C9yOXsA4L/qww8/1Hvvvafk5GRVq1ZN7dq1k7e3t/7++2/98MMPGjhwoMaOHasjR47k6Fy7d+/WuXPn1L17d3388cc59r3VqlXTjh07VLBgwRz7zszKlSuXEhMT9eWXX+rdd99Ntf7PP//U5s2b7ds5W5EiRbRjxw55e3s7exQgRxArQDb45JNPNGrUKBUtWlSzZs1SrVq1Um0TGRmpgQMH5vhsp06dkiT5+vrm6Pd6enrqoYceytHvzKwCBQooMDBQCxYs0Ntvvy03NzeH9XPmzJHNZtPTTz+tlStXOmnK/8/Nzc3YnyWQHbgMBGSx48eP67333pObm5u++uqrNENFkkJCQrRhw4ZUy7ds2aI2bdqoZMmS8vX1VZUqVTRo0CCdO3cu1ba9evWS1WpVRESEli1bpgYNGsjf318lSpRQ9+7ddfLkSfu2/77PYdy4cfbLGimXI5o0aSKr1ZrmvOndc3LkyBG99tprevjhh1W4cGEFBgaqZs2aCg0N1YkTJ265f8pn9O7dW+XLl7dfKuvWrZsOHDiQatt58+bZP2f//v1q27atAgIC5O/vr2eeeUbbt29Pc/5b6dKli86dO6fVq1c7LE9MTNS8efNUrVo1VahQIc199+7dq4EDB+rRRx9VYGCg/Pz8FBwcrCFDhujixYsO2zZp0kTjxo2TJIWGhjpchjp27Jgkx8tEa9as0dNPP63ixYsrMDBQUtr3rOzZs0e+vr6qWLGiYmJiHL4zJiZGFStWVKFChbRr1647+vkAzsSZFSCLzZs3TwkJCWrRosUtb1x1d3d3+PUXX3yhvn37ysPDQ82aNVPhwoUVFRWladOmadWqVVqzZo2KFy+e6nNmzpypNWvWqHHjxgoJCdHOnTu1dOlSHThwQJGRkXJ3d5ePj48GDRqkAwcOaPXq1QoJCdFjjz0mSXd8g+2pU6fUoEEDXblyRQ0bNtRzzz2nGzduKDo6WitWrFCbNm3SnPef9uzZo2bNmik2NlZPPfWUKlSooKNHj2rFihVas2aN5s6dqyeffDLVfnv37tWnn36qWrVqqUuXLoqOjtby5cvVrFkzbdmyRWXLlr2tY2nZsqWGDBmiL7/8Us2aNbMv/+6773T69GkNGTLEIf7+afbs2Vq5cqVCQkL0+OOPKykpSXv37tXkyZP1/fffa8OGDcqXL58kqWPHjpJunllr3Lixw8/ex8fH4XO/+eYbbdiwQY0aNVL37t115syZdOd/+OGHNXLkSA0ePFi9e/fW/Pnz7et69eql6OhojR49WtWqVbutnwtgAmIFyGI//PCDJOnxxx+/rf2OHz+uQYMGydPTU+vWrVNQUJB93ejRo/XBBx+oX79+Cg8PT7Xvhg0btHnzZpUrV86+rEePHlq8eLFWrVqlli1bymq1avDgwZo3b55Wr16txx57TIMHD77Do7xp2bJliomJ0XvvvafQ0FCHddevX1dCQkKG+9tsNr3yyiuKjY3V5MmT7b+RS9KmTZvUokULvfLKKzpw4IA8PT0d9v3uu+80bdo0tWvXzr7siy++0Jtvvqlp06bpo48+uq1j8fLyUuvWrTV79mwdP35cAQEBkqQvv/xSefPmVcuWLfXZZ5+lue+bb76pDz74QK6urg7LU+aZMWOG3nzzTUlSp06ddPz4cUVGRqpJkybq1KlTujOtW7dOixYt0hNPPJGpY+jVq5e2bt2qVatWafLkyerdu7fCwsK0Zs0aPfXUU6n+HQH3Ci4DAVks5U+/RYoUua39wsPDdePGDb344osOoSJJAwYMkL+/v9auXau//vor1b49e/Z0CBVJ6tq1q6SbN9RmFxeXm/8J+XdISDfPGuXNmzfD/aOiovTbb78pODjYIVQkqX79+nr22Wd1/vx5rVq1KtW+jzzyiEOoSNLzzz+vXLly3fExd+3aVcnJyZozZ44k6eTJk1q3bp1atWqV4bEEBASkChVJ6tatm7y9vdO83JcZzzzzTKZDJUVYWJiKFy+uESNGaObMmRoxYoSKFSumKVOmyGKx3NEcgLMRK0AWs9lsknTbvzHs27dPklS3bt1U69zd3VW7dm1J0v79+1Otr1q1aqplRYsWlaRU9y9kpWeeeUb58uXTgAED1KlTJ82aNUsHDhxQcnJypvbP6Jilm8Hyz+3+Ka1jdnNzk6+v7x0fc9WqVVW5cmXNmzdPSUlJmjNnjpKSkuzhl56EhARNnz5dTz/9tAIDA1WgQAFZrVblz59fsbGx9puab1f16tVve5+UR6ttNpv69esnm82mGTNmqECBAnc0A2ACLgMBWaxw4cI6dOhQuvc3pCflnSvpPaXj5+fnsN0/pfUIa8qf9JOSkm5rjttRvHhxbdiwQePGjdP3339vPwPi6+url19+WW+++WaaZxxSZPUxSzeP+26OuWvXrurXr5++++47zZ07VxUrVlRwcHCG+3Tv3l0rV65UiRIl1KRJE/n5+Sl37tySpClTpuj69et3NMudPrFVpUoVlShRQr///ruCg4PtoQvcqzizAmSxRx55RJK0efPm29ov5Tffs2fPprk+5fJSdr5bI+WyTlrvErl06VKa+5QpU0YzZszQkSNHtGXLFo0ePVqenp4aPXq0Pvzwwwy/z4Rj/rc2bdrI09NTAwYMUHR0tLp165bh9nv27NHKlStVr149/fjjj5o8ebKGDx+uwYMHa9CgQbe8bycjd3rZZtiwYfr9999VsGBB7dixQ9OnT7/jGQATECtAFuvUqZPc3Ny0fPly/fLLLxlu+88/cVepUkXSzUd809ouKirKYbvskPLYcnR0dKp1e/bsyXBfV1dXVa5cWX369NHixYsl6ZbvJMnomKX/H3xpXfLJLt7e3mrRooVOnjwpDw8PtWnTJsPtU17q17hx41TvZ9m1a5euXr2aap/sPOu1YsUKTZ8+XdWqVdO2bdtUtGhRvf3222leSgPuFcQKkMUCAgI0dOhQJSQkqG3btvrxxx/T3G779u0ON0+2bdtWuXPn1syZM3Xo0CGHbT/66CP99ddfatSokfz9/bNt9ho1akhSqtfJ79+/X1OnTk21/a5du9J8nDZlWZ48eTL8vlq1aqls2bLatWuXFi5c6LBu8+bNWrFihQoWLKjGjRvf1nHcrSFDhmju3LlasmRJqseJ/y3lqaGtW7c6LD937pz69++f5j4pb/FNKwrvxrFjx9SnTx95e3tr5syZ8vPz04wZM5SYmKgXXnhBly9fztLvA3IK96wA2eCNN95QYmKi3n//fT355JOqXr26goODlS9fPp0/f147duzQL7/84vDq+YCAAI0bN059+/bV448/rubNm8vPz09RUVGKjIxU0aJFb3lZ5W516tRJkyZN0qeffqqff/5ZFSpU0J9//qk1a9aoadOmWrJkicP2ixYt0owZM/TII4/owQcfVIECBXTixAmtXr1aLi4ueu211zL8PovFoilTpqh58+Z65ZVXtHTpUvt7VpYvX67cuXNr6tSpaT5tlJ2KFi1qv0H5VlLuCVmxYoUaNWqk2rVr6+zZs1q3bp3KlCmTZlzWq1dPLi4umjp1qi5evGi/N+Xll1++ZRylJyEhQS+++KIuXbqk2bNnq0SJEpJuXpYcMmSIRo0aZX+MGrjXECtANunfv7+aN2+uGTNmaMuWLfrqq68UHx8vq9Wq8uXLa9y4cake1+3evbtKlSqlzz77TKtWrVJcXJz8/f318ssvq3///tn+ivyCBQtq1apVeueddxQZGalt27apQoUK+uKLL+Tj45MqVlq3bq2EhARFRUVp2bJlio+Pl5+fn/2dHpl5AVlwcLA2bdqkCRMmaNOmTVq/fr18fHzUpEkT9evXT5UrV86uw80Srq6uWrBggUaPHq21a9dq2rRp8vf3V5cuXdS/f/8032BcunRpzZw5UxMnTtTcuXPtl4ratm17x7EyYsQI7dy5Uy+++KLDS+0kqW/fvoqMjNTixYtVt25ddenS5Y6+A3AWS0xMjM3ZQwAAAKSHe1YAAIDRiBUAAGA0YgUAABiNWAEAAEYjVgAAgNHu6UeXfdxTvxIcwE3jPR5w9giA0Xpm41/yiazFmRUAAGA0YgUAABiNWAEAAEYjVgAAgNGIFQAAYDRiBQAAGI1YAQAARiNWAACA0YgVAABgNGIFAAAYjVgBAABGI1YAAIDRiBUAAGA0YgUAABiNWAEAAEYjVgAAgNGIFQAAYDRiBQAAGI1YAQAARiNWAACA0YgVAABgNGIFAAAYjVgBAABGI1YAAIDRiBUAAGA0YgUAABiNWAEAAEYjVgAAgNGIFQAAYDRiBQAAGI1YAQAARiNWAACA0YgVAABgNGIFAAAYjVgBAABGI1YAAIDRiBUAAGA0YgUAABiNWAEAAEYjVgAAgNGIFQAAYDRiBQAAGI1YAQAARiNWAACA0YgVAABgNGIFAAAYjVgBAABGI1YAAIDRiBUAAGA0YgUAABiNWAEAAEYjVgAAgNGIFQAAYDRiBQAAGI1YAQAARiNWAACA0YgVAABgNGIFAAAYjVgBAABGI1YAAIDRiBUAAGA0YgUAABiNWAEAAEYjVgAAgNGIFQAAYDRiBQAAGI1YAQAARiNWAACA0YgVAABgNGIFAAAYjVgBAABGI1YAAIDRiBUAAGA0YgUAABiNWAEAAEYjVgAAgNGIFQAAYDRiBQAAGI1YAQAARiNWAACA0YgVAABgNGIFAAAYjVgBAABGI1YAAIDRiBUAAGA0YgUAABiNWAEAAEbL5ewBYIZpM7/U2vWbdPTP48qdO7eqVqqgvq+9oofKPChJSkhI1CeTpmlL5HadOHFSefN6qVaNYPV7vZeK+BeWJMVcitVnk2cocvsO/XXqtPJbrapfN0Rv9HlZ+a0+9u86+udxTfgkTLv27NeNGwkq82BJ9en1ouqG1HbKsQNZJWT4cIWMGOGw7Mrp05rs7y9JGmizpbnf7rAwrevTJ7vHA+5ZxAokSTt+3K2ObVuqUoUg2SR9Gva5uvd8XauWzpfVx1vXrl3TL78eUq8eXVWuXBlduRynsR9+ph69+2r5oi+VK1cunT17TmfOntOAN0NVulRJnTl7TiPf+0D9Br2jWdMm2r/rlVcHqFixIpo9/VN5eHjoq0VL1fv1QVq9dJ4Cihdz3g8ByALnf/1VX9Wvb/91clKS/X+HFS7ssG3h6tXVauVK/RYenlPjAfckS0xMTNqpnwNOnjypWbNmKSoqSmfPnpXFYlGhQoVUu3ZtdevWTcWKZfwbl497Yg5Nev+Ji49X9ZBGCvt4rBrUfyzNbQ7/cVRNWnbS8sVzVPb/zsD82+aIber56gDt3LpWefN66cLFGD1Sv7Fmf/6ZatesJklKTExUpRr19fH4d/X0kw2y7ZjuN+M9HnD2CPedkOHD9VDr1vqiUqVMbf/U9OkqXreuZpQrl82TIS09Y2KcPQIyyWn3rPzwww+qVauWvvnmGwUFBal169Zq2bKlgoKC9M033+iRRx7R9u3bnTXefS8uLl7Jycny9s6X7jZX4uIkST4ZbXMlTrlzuylPHndJUn6rjx4sVULLVn6ruPh4JSUlaeGSZfLy8lRw1cpZexCAE1hLlVKv6Gi9fOSInluwQD4lS6a5Xe68eRXUvr32ff55Dk8I3Hucdhlo8ODB6tixo8aPH5/m+kGDBmnw4MHauHFjDk8GSXpv/CcKKltGD1epmOb6GwkJGvvhZ3q83mMq7Oeb5jaxsZc1cfLnatuyqXLluvl/NYvFoi+mTlTom2+p2qNPysXFRT7e+fR52IfyLcSZANzb/oqK0upu3XTh11/l6eurR4YNU6dt2zSrQgVdu3DBYdugDh3k6u6un2bPdtK0wL3DaZeBChcurIiICJUpUybN9YcOHVLdunV1+vTpdD+Dy0DZY8yEiVr13Xot+N8UFS9WNNX6xMRE9Rs8QocPH9XcLyY73DybIj7+qnr07itXVxfNmPyR3N1vnlmx2Wzq/cYgJSQkqtdL3ZQnj7sWfb1c6zZGaMm8mfLzK5Ttx3e/4DKQ87l5eenlI0cUNXasdn78scO6zjt26NLRo1rerp2TpgOXge4dTrsM5Ofnl+Flnu3bt8vPzy8HJ4IkvT9holZ9u06zP/803VDp+9Zw/XbosP73+adphkpcfLxeCu0rSZr62QR7qEjS9h27tHFzpD4aO1LVHq6sCkFlNWLoAHl65NGSZSuz78AAJ0iIi9P5n39W/n/9ocy3ShX516jBJSAgk5x2GejVV19V3759tXv3btWvX1++vr6yWCw6c+aMNm3apPnz52vMmDHOGu++NHrcx1r97TrNmRmmB0uWSLU+ISFRfQe9o0OHj2jOzEkq9EDBVNtciYvTS737ySabZkz+SF6eng7rr169JklycXHsZIvFRcnJTrvXG8gWru7uKlCunI7/63J2lZdfVszRozq2bp2TJgPuLU6LlR49eqhAgQKaPHmy5syZo6T/e7zP1dVVVatW1dSpU9WiRQtnjXffGfn+B1q28luFfTxW3t75dO7v85IkT08PeXl6KjExUa8PGKoDPx3U1M8myGKx2LfJlzev8uRx15W4OL34yhu6ciVeYZ+M1dWr1+xx4uPjrdxubqpapaJ8fLw1+J33FNqzu9zd3RX+9XJFnzypx+uFOO34gaxQf8IE/bFihWKPH5enr68effttuXl5OdyXksvDQ+U7dVJUOvfrAUjNqY8up0hISND58zd/4ytYsKDc3NwytR/3rGSdslUeTXN5n1de0Ku9eij65Ck1bNwqzW3GvDtULZs1UdSPu9WlR9ovtvpyxiTVqhEsSTrw80F98tk0/fTLr0pITNSDJUsotGd31a9LrGQl7lnJec8tWKDidevK44EHFH/unP7avl1b335b5w8etG9TsVs3Pf3555oaEKArp045cVpwz8q9w4hYuVPECpA+YgXIGLFy7+DvBgIAAEYjVgAAgNGIFQAAYDRiBQAAGI1YAQAARiNWAACA0YgVAABgNGIFAAAYjVgBAABGI1YAAIDRiBUAAGA0YgUAABiNWAEAAEYjVgAAgNGIFQAAYDRiBQAAGI1YAQAARiNWAACA0YgVAABgNGIFAAAYjVgBAABGI1YAAIDRiBUAAGA0YgUAABiNWAEAAEYjVgAAgNGIFQAAYDRiBQAAGI1YAQAARiNWAACA0YgVAABgNGIFAAAYjVgBAABGI1YAAIDRiBUAAGA0YgUAABiNWAEAAEYjVgAAgNGIFQAAYDRiBQAAGI1YAQAARiNWAACA0YgVAABgNGIFAAAYjVgBAABGI1YAAIDRiBUAAGA0YgUAABiNWAEAAEYjVgAAgNGIFQAAYDRiBQAAGI1YAQAARiNWAACA0YgVAABgNGIFAAAYjVgBAABGI1YAAIDRiBUAAGA0YgUAABiNWAEAAEYjVgAAgNGIFQAAYDRiBQAAGI1YAQAARiNWAACA0YgVAABgNGIFAAAYjVgBAABGI1YAAIDRiBUAAGA0YgUAABiNWAEAAEYjVgAAgNGIFQAAYDRiBQAAGI1YAQAARiNWAACA0YgVAABgNGIFAAAYjVgBAABGI1YAAIDRiBUAAGA0YgUAABiNWAEAAEYjVgAAgNGIFQAAYLRczh7gbnzq8YCzRwCM9WRpP2ePAABZgjMrAADAaMQKAAAwGrECAACMRqwAAACjESsAAMBoxAoAADAasQIAAIxGrAAAAKMRKwAAwGjECgAAMBqxAgAAjEasAAAAoxErAADAaMQKAAAwGrECAACMRqwAAACjESsAAMBoxAoAADAasQIAAIxGrAAAAKMRKwAAwGjECgAAMBqxAgAAjEasAAAAo+VKb0X+/PllsVhu68MsFovOnz9/10MBAACkSDdWBg4ceNuxAgAAkNXSjZXBgwfn5BwAAABp4p4VAABgtHTPrKTn1KlT2rdvny5duqTk5ORU6zt06JAlgwEAAEi3ESs3btxQnz59tGTJEiUnJ8tischms0mSw70txAoAAMhKmb4M9P7772vJkiUaPHiwVq5cKZvNpilTpmjp0qVq0KCBKlWqpMjIyOycFQAA3IcyHStLlixRu3bt1L9/fwUFBUmS/P39Vb9+fS1atEienp6aNWtWtg0KAADuT5mOlbNnz6pWrVqSpFy5bl49unbtmqSbl4GaNWum5cuXZ8OIAADgfpbpWClYsKBiYmIkSfny5ZOHh4f+/PNP+/qEhATFxcVl9XwAAOA+l+kbbCtVqqQff/xR0s0zKSEhIZo8ebIqV66s5ORkTZ8+XZUqVcq2QQEAwP0p02dWunXrJpvNZr/0M2rUKMXFxalJkyZ69tlnFR8fr/feey/bBgUAAPcnS0xMjO1Od46NjVVERIRcXV1Vu3ZtWa3WLBzt1mbn8PcB95I6pf2cPQJgtFI7f3P2CMik234p3D95e3urSZMmWTULAABAKpmOlRMnTmRqu+LFi9/xMAAAAP+W6VipXLlypv4W5gsXLtzVQAAAAP+U6ViZNGlSqlhJSkrSsWPH9NVXX8nX11c9evTI8gEBAMD9LdOx0qlTp3TXvfHGG2rQoIGuXLmSJUMBAACkyPSjyxnJmzevOnXqpMmTJ2fFxwEAANhlSaxIkpubm06dOpVVHwcAACApi2LlwIEDmjp1qsqWLZsVHwcAAGB3108DXbp0SbGxscqbN6/CwsKydDgAAIBMx0pISEiqWLFYLLJarSpVqpRatWqV42+wBQAA/32ZjpUpU6Zk5xwAAABpyvQ9K6Ghodq5c2e663ft2qXQ0NAsGQoAACBFpmNl/vz5Onr0aLrrjx07pgULFmTJUAAAACmy7NHlCxcuyN3dPas+DgAAQNIt7lmJjIzU1q1b7b9esWKFjhw5kmq7mJgYff3116pYsWLWTwgAAO5rGcZKRESExo0bJ+nmkz8rVqzQihUr0ty2TJkyGjNmTNZPCAAA7muWmJgYW3or4+LiFBcXJ5vNpnLlymnChAlq2rSp4wdYLPL09JSXl1e2D/tvs3lUGkhXndJ+zh4BMFqpnb85ewRkUoZnVry8vOwRsm/fPhUqVEgeHh45MhgAAIB0GzfYXr16VcuXL093fXh4uA4dOpQlQwEAAKTIdKyMHDlSS5YsSXf9kiVL9O6772bJUAAAACkyHSs7d+5UnTp10l1fp06dDF8aBwAAcCcyHSuXLl3K8H6VPHny6OLFi1kyFAAAQIpMx0pgYKAiIyPTXR8ZGalixYplyVAAAAApMh0rbdq00bJly/Txxx8rISHBvjwxMVETJ07UsmXL1Lp162wZEgAA3L8yfM/KPyUkJKh9+/basGGDrFarSpcuLYvFosOHD+vixYuqV6+ewsPDlTt37uye2Y73rADp4z0rQMZ4z8q9I9NnVtzc3LR48WJNmjRJNWvWVGxsrGJiYlSjRg2FhYVp6dKlOnz4cHbOCgAA7kOZPrOSntOnT2vRokUKDw/Xzz//rAsXLmTVbLfEmRUgfZxZATLGmZV7R4ZvsE3PlStXtHz5coWHh2vr1q1KSkpSUFCQ3njjjSweDwAA3O8yHStJSUlat26dwsPDtWbNGl29elUWi0U9evRQaGioAgMDs3NOAABwn7plrOzcuVMLFy7U0qVLdf78eQUFBalfv36qXr26mjdvrvr16xMqAAAg22QYK9WqVdPRo0dVrFgxde7cWa1bt1aFChUkScePH8+RAQEAwP0tw1g5cuSIAgMDNWzYMDVu3Fienp45NRcAAICkWzy6HBYWppIlS6pnz5566KGH9OKLL2r16tUOL4UDAADIThmeWenYsaM6duyoM2fOKDw8XOHh4erUqZO8vb312GOPyWKxyGKx5NSsAADgPnTb71k5ePCgFi5cqMWLF+vkyZMqUKCAGjVqpGeeeUYNGzaUl5dXds2aCu9ZAdLHe1aAjPGelXvHXb0ULiIiQgsXLtTy5ct1+fJl5cmTR6dOncrK+TJErADpI1aAjBEr945Mv24/LXXq1NGkSZP0+++/a9asWapfv34WjQUAAHDTXb9u35k4swKkjzMrQMY4s3LvuKszKwAAANmNWAEAAEYjVgAAgNGIFQAAYDRiBQAAGI1YAQAARiNWAACA0YgVAABgNGIFAAAYjVgBAABGI1YAAIDRiBUAAGA0YgXpKlKnjp5dtkwvREfrNZtNQV27ptqm1vDheuHkSfWOj1fLjRtVoHx5h/UVXnpJLTdsUM+LF/WazaZ8gYE5NT6Qo/xeeU0P/35axd55377MxdNTxd5+TxUidqvKgaMK+m6rCnV72WG/3AGBKhk2SxWjflblPb+rxMTpylXwgZweHzAasYJ0ueXNq/M//aQtr7+uhPj4VOurDRyoh/v10+ZXX9VXNWro6tmzav7993LLm/f/f4anp46vXauoESNycHIgZ3lWDVbBts/r6sGfHZYXHTxS3o8/oWP9X9XBp+vqzJSJKjJgqPI3ay1JcvHwVOkvFkoWiw53aa1D7Z6Txc1NpabNkSwWZxwKYCRiBek6tmaNfhg6VIeXLJEtOTnV+qpvvKGdY8fqj6+/1oWff9barl2VO18+le3Y0b7N3okTtXPsWP21dWtOjg7kGJe8+VTiw8k6PuRNJcZecljnFVxDF75ZrCtRkbpx8oQufLNIcXt3y6tK8M311Wood7EAHX/rDV377aCuHfpVxwa+Js9KVZTvkceccTiAkYgV3BHvkiXl5e+v42vX2pclXbumk1u2yP/RR504GZCzAkZ/oJhvV+rK9shU6+J2RcmnwZNyK1xEkuT1cHV5BlVQbMRGSZIld27JZlPy9ev2fWw3rkvJyfKqVitnDgC4BxgdK9HR0QoNDXX2GEiDZ+HCkqT4M2cclsefOWNfB/zXFWzbSe6BJXTqk3Fpro8eNUxXD/6sihG7VfWXEyozb6lOThit2I3fS5Li9+5Wcnycig56Ry4ennLx8FTRQcNlyZVLbr6+OXkogNGMjpWLFy9qwYIFzh4DGbHZHH5psVhSLQP+i9xLPij/fkP0Z79Q2RIS0tymUOcX5RVcQ3/07KxfWzRS9PvDVXTQcOWr87gkKfHCeR197SV512ugynsPq/LuQ3L19lb8T/tkS0p96RW4X+Vy5pffKkSio6NzaBLcrvjTpyXdPMNy5R//njx8fVOdbQH+i7weri63AgUVtGqTfZklVy7lrVFbD3Toov01gm7GzGsvKXbDzTMp1347KI+gCvJ7sZcu/9+loMtbN+uXhrXlmr+AlJiopMuxqrhtv25EL3PGYQFGcmqs9O7dW56enjf/NJ6G5DRu6oQZYo8eVdypUwp48kmd3blTkuTq7q6idepo64ABTp4OyH6Xvl+jgwf2OSwLGPuJrh87ojNTPpUkueTOnfrm9OQkySX1Se2kixckSXlrhyhXwQd0af132TM4cA9yaqz4+/tr7Nixatq0aZrr9+/fr/r16+fsULBz8/KST+nSkiSLi4vyBQTogSpVdO3CBV05cUJ7P/lENYYO1cVff9XFQ4dUc9gw3bhyRb/Nn2//DE8/P3kWLizrQw9JkgqULy93q1WXjx/X9YsXnXJcQFZIuhyrpMuxDsuSr8YrKSZG137/VZJ0OWqbivQfquS4ON34K1p5az6iAs3b6OT40fZ9CrRqr2t//K7EC3/Lq2p1FRs2Sue+mK7rR//I0eMBTObUWKlSpYr279+fbqxYLBbZuP/BaXyrV1erTZvsv6797ruq/e67+uV//9O67t21a/x45fLwUP2wMLnnz68zUVH6plEjJVy5Yt+n0iuvqNY/3rHSbPVqSdL33brp4OzZOXUogFP8+UZPFek/VIEfhimX1aobJ6N16pPx+nvOTPs2eUo+qCL9hsjVx6obJ0/o9JSJOvfFNCdODZjHEhMT47Qa2LZtm+Li4vTkk0+muT4uLk579uzRY4+l/b6B2VZrNk4H3NvqlPZz9giA0Urt/M3ZIyCTnHpm5dFbvI/Dy8sr3VABAAD3B6MfXQYAACBWAACA0YgVAABgNGIFAAAYjVgBAABGI1YAAIDRiBUAAGA0YgUAABiNWAEAAEYjVgAAgNGIFQAAYDRiBQAAGI1YAQAARiNWAACA0YgVAABgNGIFAAAYjVgBAABGI1YAAIDRiBUAAGA0YgUAABiNWAEAAEYjVgAAgNGIFQAAYDRiBQAAGI1YAQAARiNWAACA0YgVAABgNGIFAAAYjVgBAABGI1YAAIDRiBUAAGA0YgUAABiNWAEAAEYjVgAAgNGIFQAAYDRiBQAAGI1YAQAARiNWAACA0YgVAABgNGIFAAAYjVgBAABGI1YAAIDRiBUAAGA0YgUAABiNWAEAAEYjVgAAgNGIFQAAYDRiBQAAGI1YAQAARiNWAACA0YgVAABgNGIFAAAYjVgBAABGI1YAAIDRiBUAAGA0YgUAABiNWAEAAEYjVgAAgNGIFQAAYDRiBQAAGI1YAQAARiNWAACA0YgVAABgNGIFAAAYjVgBAABGI1YAAIDRiBUAAGA0YgUAABiNWAEAAEYjVgAAgNGIFQAAYDRiBQAAGI1YAQAARiNWAACA0YgVAABgNGIFAAAYjVgBAABGI1YAAIDRiBUAAGA0YgUAABiNWAEAAEYjVgAAgNGIFQAAYDRiBQAAGI1YAQAARiNWAACA0YgVAABgNEtMTIzN2UMAAACkhzMrAADAaMQKAAAwGrECAACMRqwAAACjESsAAMBoxAoAADAasQIAAIxGrAAAAKMRKwAAwGjECgAAMBqxAgAAjEasAAAAoxErAADAaMQKAAAwGrECAACMRqwAAACjESsAAMBoxAoAADAasQIAAIxGrAAAAKMRKwAAwGjECgAAMBqxAgAAjEasAAAAoxErAADAaMQKAAAwGrECAACMRqwAAACjESsAAMBoxAoAADAasQIAAIxGrAAAAKMRKwAAwGjECgAAMBqxAgAAjEasAAAAoxErAADAaMQKAAAwGrECAACMRqwAAACjESsAAMBoxAoAADAasQIAAIxGrAAAAKMRKwAAwGjECgAAMBqxAgAAjEasAAAAoxErAADAaMQKAAAwGrECAACMRqwAAACjESsAAMBoxAoAADAasQIAAIxGrAAAAKMRKwAAwGjECgAAMBqxAgAAjEasAAAAoxErAADAaMQKAAAwGrECAACMRqwAAACjESsAAMBoxAoAADAasQIAAIxGrAAAAKMRKwAAwGjECgAAMBqxAgAAjEasAAAAoxErAADAaMQKAAAwGrECAACMRqwAAACjESsAAMBoxAoAADAasQIAAIxGrAAAAKMRKwAAwGjECgAAMBqxAgAAjEasAAAAoxErAADAaMQKAAAwGrECAACMRqwAAACjESsAAMBoxAoAADAasQIAAIxGrAAAAKMRKwAAwGjECgAAMBqxAgAAjEasAAAAoxErAADAaMQK7tqMGTNUuXJl+fn5qV69etq2bZuzRwKMEBkZqfbt2ysoKEhWq1Xz5s1z9kjAPYlYwV35+uuv9dZbb6lfv37asmWLatasqTZt2ujEiRPOHg1wuri4OJUvX15jx46Vh4eHs8cB7lmWmJgYm7OHwL2rYcOGqlChgj799FP7suDgYDVr1kzDhw934mSAWYoWLarx48erU6dOzh4FuOdwZgV37MaNG9q7d68aNGjgsLxBgwaKiopy0lQAgP8aYgV37Pz580pKSlKhQoUclhcqVEhnz5510lQAgP8aYgV3zWKxOPzaZrOlWgYAwJ0iVnDHChYsKFdX11RnUf7+++9UZ1sAALhTxAruWO7cuVW1alVt3LjRYfnGjRtVq1YtJ00FAPivyeXsAXBvCw0NVc+ePVWtWjXVqlVLs2bN0unTp9W9e3dnjwY43ZUrV3TkyBFJUnJysqKjo7V//37lz59fxYsXd/J0wL2DR5dx12bMmKGJEyfqzJkzCgoK0vvvv6+QkBBnjwU4XUREhJ577rlUyzt06KApU6Y4YSLg3kSsAAAAo3HPCgAAMBqxAgAAjEasAAAAoxErAADAaMQKAAAwGrECAACMRqwAMMKYMWNktVodllWqVEm9evVyzkDpsFqtGjNmjLPHAO4rxAoASdK8efNktVrt/xQsWFDly5dXnz59dPr0aWePl2lXrlzRmDFjFBER4exRAGQRXrcPwMFbb72lkiVL6vr169q+fbvmz5+vyMhIbdu2TR4eHjk6y86dO+Xicnt/poqLi9O4ceMkSXXq1MmOsQDkMGIFgIOGDRuqRo0akqQuXboof/78CgsL0+rVq9WqVatU28fHx8vT0zNbZnF3d8+WzwVwb+EyEIAM1a1bV5L0559/qlevXvLz89Px48fVsWNHBQQEqE2bNvZtlyxZooYNG8rf318BAQFq166dfv3111Sf+d133ykkJER+fn6qVq2avvzyyzS/O617Vm7cuKEJEyaoRo0a8vX1VZkyZdShQwcdPHhQx44dU9myZSVJ48aNs1/S+udnnD59Wq+//rrKlSsnX19fBQcHa+LEibLZHP/mkdjYWL3++usqUaKEihcvrs6dO99Tl8OA/xLOrADI0NGjRyVJBQoUkHTzbw9u2bKlgoODNXLkSLm6ukqSPvnkE40YMULPPfec2rdvr7i4OM2YMUNPPfWUNm/erBIlSkiSNm/erI4dO6pUqVIaOnSorl27plGjRsnPz++WsyQnJ6tDhw5av369mjZtqpdeeklXr15VRESE9u7dq6ZNm2rChAkaMGCAnn32WftfIliyZElJ0rlz5/TEE08oMTFRXbt2VeHChfXDDz9o+PDhOnXqlMaOHStJstlsev755xUREaHOnTurUqVK2rRpk0OYAcg5xAoAB7GxsTp//ryuXbumqKgojR8/Xh4eHnrqqae0Y8cOJSQkqFGjRnr//fft+5w4cUKjR4/WoEGDNHjwYPvy9u3bq2bNmvrggw80adIkSdI777wjq9WqtWvXKn/+/JKkZs2a6dFHH73lbAsWLND69es1bNgw9e/f37789ddfl81mk8ViUdOmTTVgwABVqFBB7dq1c9h/9OjRun79uiIjI+Xr6ytJ6t69uwoXLqxJkyapV69eCgwM1LfffqstW7ZoyJAhGjhwoCTppZde0ksvvaQDBw7c4U8WwJ3iMhAAB61atdKDDz6oChUq6IUXXpCfn58WLlyoIkWK2Lfp0aOHwz4rVqxQYmKiWrVqpfPnz9v/cXNzU/Xq1bVlyxZJ0pkzZ7Rv3z61b9/eHiqSVLZsWTVs2PCWsy1fvlw+Pj569dVXU62zWCwZ7muz2bRs2TI99dRTcnV1dZizYcOGSk5OVmRkpKSbl6lcXFzUs2dPh88w7TFq4H7BmRUADsaNG6eyZcvK3d1dxYoVU7FixRxCwMXFRQEBAQ77/PHHH5KkmjVrpvmZKTfgHj9+XJJUpkyZVNuULl1aa9euzXC2o0ePqnTp0nd04+3ff/+tmJgYzZ07V3Pnzk13G+nmmSJfX1/5+PikmhFAziNWADgIDg62Pw2UFjc3N+XK5fifjuTkZEnS4sWLU62TZH/8OOUm1rTOgvz7Bte0pFzquRMpM7Zu3VrPP/98mtuUKlXqrr8HQNYjVgDctZQbWIsVK6Zy5cqlu11gYKAk6dChQ6nWpZydyUipUqUUFRWlGzduKHfu3Gluk15kPPDAA/L29lZiYqLq16+f4fcEBARo06ZNunTpksPZlcOHD99yRgBZj3tWANy1pk2bKleuXBozZoz9DMY/pVxe8fPzU+XKlfXVV1/p4sWL9vW//fab1q9fn6nviYmJUVhYWKp1KWdmUi45xcTEOKx3dXVV06ZNtXLlSu3duzfV/pcuXVJCQoIkqVGjRkpOTta0adMctpkyZcotZwSQ9TizAuCulShRQiNHjtTQoUP1xBNP6LnnnlP+/Pl14sQJrV27VtWrV9fHH38sSRo5cqRatWqlRo0aqUuXLrp69ao+//xzBQUF6aeffsrwe9q3b6/w8HCNHDlS+/btU0hIiK5du6atW7eqRYsWat++vfLmzasyZcro66+/VunSpVWgQAEFBgaqevXqGjFihCIjI/X000+rc+fOKl++vC5fvqxffvlFK1as0O7du+Xn56dnnnlGISEhGjNmjKKjo1W5cmVt3LhRx44dy4kfJ4B/IVYAZInQ0FCVLl1an332mT766CMlJibK399ftWvXVufOne3bPf7445o3b55GjRqlUaNGqXjx4nr77bd18uTJW8aKq6urFi5cqA8//FCLFy/WqlWrlD9/flWvXl1Vq1a1bxcWFqbBgwdr2LBhun79ujp06KDq1avrgQce0Pr16zVhwgStWrVK//vf/+Tj46PSpUvrrbfesj+hZLFYNH/+fA0bNkzffPONli5dqnr16mnRokUKCgrKlp8fgPRZYmJibn1XGwAAgJNwzwoAADAasQIAAIxGrAAAAKMRKwAAwGjECgAAMBqxAgAAjEasAAAAoxErAADAaMQKAAAwGrECAACM9v8AEYEZV1gPe0YAAAAASUVORK5CYII=\n",
      "text/plain": [
       "<Figure size 576x576 with 1 Axes>"
      ]
     },
     "metadata": {},
     "output_type": "display_data"
    },
    {
     "name": "stdout",
     "output_type": "stream",
     "text": [
      "Classification Report:\n",
      "----------------------\n",
      "               precision    recall  f1-score   support\n",
      "\n",
      "           0       0.96      0.98      0.97      2285\n",
      "           1       0.90      0.83      0.86       590\n",
      "\n",
      "    accuracy                           0.95      2875\n",
      "   macro avg       0.93      0.90      0.91      2875\n",
      "weighted avg       0.94      0.95      0.94      2875\n",
      "\n"
     ]
    }
   ],
   "source": [
    "# CONFUSION MATRIX\n",
    "\n",
    "cm = confusion_matrix(Ytest, Ada_pred)\n",
    "clr = classification_report(Ytest, Ada_pred)\n",
    "\n",
    "plt.figure(figsize=(8, 8))\n",
    "sns.heatmap(cm, annot=True, vmin=0, fmt='g', cbar=False, cmap='OrRd_r')\n",
    "plt.xticks(np.arange(3) + 0.5)\n",
    "plt.yticks(np.arange(3) + 0.5)\n",
    "plt.xlabel(\"Predicted\")\n",
    "plt.ylabel(\"Actual\")\n",
    "plt.title(\"Confusion Matrix\")\n",
    "plt.show()\n",
    "\n",
    "print(\"Classification Report:\\n----------------------\\n\", clr)"
   ]
  },
  {
   "cell_type": "markdown",
   "id": "68822152",
   "metadata": {},
   "source": [
    "#### Gradient Boosting Classifier\n",
    "Gradient boosting classifier is a set of machine learning algorithms that include several weaker models to combine them into a strong big one with highly predictive output. Models of a kind are popular due to their ability to classify datasets effectively."
   ]
  },
  {
   "cell_type": "code",
   "execution_count": 21,
   "id": "92b3f6d6",
   "metadata": {},
   "outputs": [
    {
     "name": "stdout",
     "output_type": "stream",
     "text": [
      "accuracy_score: 0.9659130434782609\n",
      "F1_score: 0.9134275618374558\n"
     ]
    }
   ],
   "source": [
    "from sklearn.ensemble import GradientBoostingClassifier\n",
    "gradient_booster = GradientBoostingClassifier(n_estimators=200)\n",
    "gradient_booster.fit(Xtrain,Ytrain)\n",
    "Grd_pred = gradient_booster.predict(Xtest)\n",
    "print(f\"accuracy_score: {accuracy_score(Ytest, Grd_pred)}\")\n",
    "print(f\"F1_score: {f1_score(Ytest,Grd_pred)}\")"
   ]
  },
  {
   "cell_type": "markdown",
   "id": "b90e5901",
   "metadata": {},
   "source": [
    "n_estimators = 200 gives the number of trees (weak learners) that we want to add in the model. \n",
    "There are no optimum values for learning rate as low values always work better, \n",
    "given that we train on sufficient number of trees."
   ]
  },
  {
   "cell_type": "code",
   "execution_count": 23,
   "id": "68856962",
   "metadata": {},
   "outputs": [
    {
     "data": {
      "image/png": "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\n",
      "text/plain": [
       "<Figure size 576x576 with 1 Axes>"
      ]
     },
     "metadata": {},
     "output_type": "display_data"
    },
    {
     "name": "stdout",
     "output_type": "stream",
     "text": [
      "Classification Report:\n",
      "----------------------\n",
      "               precision    recall  f1-score   support\n",
      "\n",
      "           0       0.97      0.99      0.98      2285\n",
      "           1       0.95      0.88      0.91       590\n",
      "\n",
      "    accuracy                           0.97      2875\n",
      "   macro avg       0.96      0.93      0.95      2875\n",
      "weighted avg       0.97      0.97      0.97      2875\n",
      "\n"
     ]
    }
   ],
   "source": [
    "# CONFUSION MATRIX\n",
    "\n",
    "cm = confusion_matrix(Ytest, Grd_pred)\n",
    "clr = classification_report(Ytest, Grd_pred)\n",
    "\n",
    "plt.figure(figsize=(8, 8))\n",
    "sns.heatmap(cm, annot=True, vmin=0, fmt='g', cbar=False, cmap='YlGnBu')\n",
    "plt.xticks(np.arange(3) + 0.5)\n",
    "plt.yticks(np.arange(3) + 0.5)\n",
    "plt.xlabel(\"Predicted\")\n",
    "plt.ylabel(\"Actual\")\n",
    "plt.title(\"Confusion Matrix\")\n",
    "plt.show()\n",
    "\n",
    "print(\"Classification Report:\\n----------------------\\n\", clr)"
   ]
  },
  {
   "cell_type": "markdown",
   "id": "4a7ee0a6",
   "metadata": {},
   "source": [
    "#  ML MODEL PERFORMANCE EVALUATION"
   ]
  },
  {
   "cell_type": "markdown",
   "id": "4b5f17fb",
   "metadata": {},
   "source": [
    "##  Receiver Operating Characteristics (ROC) Curve\n",
    "\n",
    "AUC–ROC curve is the model selection probability curve. AUC area is covered by the curve is the area between the brown line (ROC) and the axis. The bigger the area covered, the better the machine learning models. Ideal value for AUC is 1.\n",
    "\n",
    "ROC - Receiver Operating Characteristics\n",
    "AUC - Area Under the Curve"
   ]
  },
  {
   "cell_type": "code",
   "execution_count": 25,
   "id": "14885b3f",
   "metadata": {},
   "outputs": [],
   "source": [
    "from sklearn.metrics import roc_curve\n",
    "\n",
    "# roc curve for models\n",
    "fpr1, tpr1, thresh1 = roc_curve(Ytest, SVC_Pred[:], pos_label=1)\n",
    "fpr2, tpr2, thresh2 = roc_curve(Ytest, KNN_pred[:], pos_label=1)\n",
    "fpr3, tpr3, thresh3 = roc_curve(Ytest, Rnd_pred[:] , pos_label=1)\n",
    "fpr4, tpr4, thresh4 = roc_curve(Ytest, Ada_pred[:], pos_label=1)\n",
    "fpr5, tpr5, thresh5 = roc_curve(Ytest, Grd_pred[:], pos_label=1)\n",
    "\n",
    "random_probs = [0 for i in range(len(Ytest))]\n",
    "p_fpr, p_tpr, _ = roc_curve(Ytest, random_probs, pos_label=1)"
   ]
  },
  {
   "cell_type": "code",
   "execution_count": 26,
   "id": "95214fdb",
   "metadata": {},
   "outputs": [
    {
     "name": "stdout",
     "output_type": "stream",
     "text": [
      "0.9500519230056003 0.8306994770611579 0.9614230612320587 0.9019341319586098 0.9326651337017395\n"
     ]
    }
   ],
   "source": [
    "from sklearn.metrics import roc_auc_score\n",
    "\n",
    "# auc scores for models\n",
    "auc_score1 = roc_auc_score(Ytest, SVC_Pred[:])\n",
    "auc_score2 = roc_auc_score(Ytest, KNN_pred[:])\n",
    "auc_score3 = roc_auc_score(Ytest, Rnd_pred[:])\n",
    "auc_score4 = roc_auc_score(Ytest, Ada_pred[:])\n",
    "auc_score5 = roc_auc_score(Ytest, Grd_pred[:])\n",
    "\n",
    "print(auc_score1, auc_score2,auc_score3,auc_score4,auc_score5)"
   ]
  },
  {
   "cell_type": "code",
   "execution_count": 27,
   "id": "39b587e0",
   "metadata": {},
   "outputs": [
    {
     "data": {
      "image/png": "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\n",
      "text/plain": [
       "<Figure size 576x396 with 1 Axes>"
      ]
     },
     "metadata": {},
     "output_type": "display_data"
    }
   ],
   "source": [
    "# matplotlib\n",
    "import matplotlib.pyplot as plt\n",
    "plt.style.use('seaborn')\n",
    "\n",
    "# plot roc curves\n",
    "plt.plot(fpr1, tpr1, linestyle='--',color='aqua', label='SVM')\n",
    "plt.plot(fpr2, tpr2, linestyle='--',color='green', label='KNN')\n",
    "plt.plot(fpr3, tpr3, linestyle='--',color='blue', label='Random Forest')\n",
    "plt.plot(fpr4, tpr4, linestyle='--',color='deeppink', label='Adaboost')\n",
    "plt.plot(fpr5, tpr5, linestyle='--',color='cornflowerblue', label='Gradient Boost')\n",
    "plt.plot(p_fpr, p_tpr, linestyle='--', color='maroon')\n",
    "# title\n",
    "plt.title('ROC curve')\n",
    "# x label\n",
    "plt.xlabel('False Positive Rate')\n",
    "# y label\n",
    "plt.ylabel('True Positive rate')\n",
    "\n",
    "plt.legend(loc='best')\n",
    "plt.savefig('ROC',dpi=300)\n",
    "plt.show();"
   ]
  },
  {
   "cell_type": "markdown",
   "id": "20852c36",
   "metadata": {},
   "source": [
    "##  Performance Evaluation Plot"
   ]
  },
  {
   "cell_type": "code",
   "execution_count": 28,
   "id": "5e2327e9",
   "metadata": {},
   "outputs": [
    {
     "data": {
      "image/png": "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\n",
      "text/plain": [
       "<Figure size 576x396 with 1 Axes>"
      ]
     },
     "metadata": {},
     "output_type": "display_data"
    }
   ],
   "source": [
    "# ACCURACY Vs F1 SCORE PLOT\n",
    "import numpy as np \n",
    "import matplotlib.pyplot as plt \n",
    "  \n",
    "X = ['SVM','KNN','Random Forest','Adaboost','Gradient Boost']\n",
    "Accuracy = [0.97,0.92,0.97,0.94,0.90]\n",
    "F1score = [0.93,0.77,0.93,0.86,0.75]\n",
    "X_axis =  np.arange(len(X))\n",
    "plt.bar(X_axis - 0.2, Accuracy, 0.4, label = 'Accuracy')\n",
    "plt.bar(X_axis + 0.2, F1score, 0.4, label = 'F1score')\n",
    "plt.xticks(X_axis, X, rotation='vertical')\n",
    "plt.xlabel(\"ML Models\")\n",
    "plt.ylabel(\"Accuracy - F1 score\")\n",
    "plt.title(\"Performance Evaluation Plot\")\n",
    "plt.legend()\n",
    "plt.show()"
   ]
  },
  {
   "cell_type": "markdown",
   "id": "39c1ba48",
   "metadata": {},
   "source": [
    "Performance evaluation shows that Random Forest classifier gives the highest accuracy score of 0.97  and F1 score of 0.94 in the EEG signal classification for Epileptic Seizure detection."
   ]
  },
  {
   "cell_type": "code",
   "execution_count": null,
   "id": "13d75589",
   "metadata": {},
   "outputs": [],
   "source": []
  }
 ],
 "metadata": {
  "kernelspec": {
   "display_name": "Python 3",
   "language": "python",
   "name": "python3"
  },
  "language_info": {
   "codemirror_mode": {
    "name": "ipython",
    "version": 3
   },
   "file_extension": ".py",
   "mimetype": "text/x-python",
   "name": "python",
   "nbconvert_exporter": "python",
   "pygments_lexer": "ipython3",
   "version": "3.8.8"
  }
 },
 "nbformat": 4,
 "nbformat_minor": 5
}
